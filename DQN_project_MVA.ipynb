{
 "cells": [
  {
   "cell_type": "markdown",
   "metadata": {
    "colab_type": "text",
    "id": "69TJA2Ya-bSa"
   },
   "source": [
    "**You may need to install [OpenCV](https://pypi.python.org/pypi/opencv-python) and [scikit-video](http://www.scikit-video.org/stable/).**"
   ]
  },
  {
   "cell_type": "code",
   "execution_count": 1,
   "metadata": {
    "colab": {},
    "colab_type": "code",
    "id": "6zCW1Cf8-bTK"
   },
   "outputs": [
    {
     "name": "stderr",
     "output_type": "stream",
     "text": [
      "Using TensorFlow backend.\n"
     ]
    }
   ],
   "source": [
    "import keras\n",
    "import numpy as np\n",
    "import io\n",
    "import base64\n",
    "from IPython.display import HTML\n",
    "import skvideo.io\n",
    "import cv2\n",
    "import json\n",
    "\n",
    "from keras.models import Sequential,model_from_json\n",
    "from keras.layers.core import Dense\n",
    "from keras.optimizers import sgd\n",
    "from keras.layers import Conv2D, MaxPooling2D, Activation, AveragePooling2D,Reshape,BatchNormalization, Flatten, Dropout"
   ]
  },
  {
   "cell_type": "markdown",
   "metadata": {
    "colab_type": "text",
    "id": "J-BjWbkb-bTk"
   },
   "source": [
    "# MiniProject #3: Deep Reinforcement Learning"
   ]
  },
  {
   "cell_type": "markdown",
   "metadata": {
    "colab_type": "text",
    "id": "j6X9k6-D-bTt"
   },
   "source": [
    "__Notations__: $E_p$ is the expectation under probability $p$. Please justify each of your answer and widely comment your code."
   ]
  },
  {
   "cell_type": "markdown",
   "metadata": {
    "colab_type": "text",
    "id": "umqrbS3j-bTx"
   },
   "source": [
    "# Context"
   ]
  },
  {
   "cell_type": "markdown",
   "metadata": {
    "colab_type": "text",
    "id": "L3td_Rfk-bT2"
   },
   "source": [
    "In a reinforcement learning algorithm, we modelize each step $t$ as an action $a_t$ obtained from a state $s_t$, i.e. $\\{(a_{t},s_{t})_{t\\leq T}\\}$ having the Markov property. We consider a discount factor $\\gamma \\in [0,1]$ that ensures convergence. The goal is to find among all the policies $\\pi$, one that maximizes the expected reward:\n",
    "\n",
    "\\begin{equation*}\n",
    "R(\\pi)=\\sum_{t\\leq T}E_{p^{\\pi}}[\\gamma^t r(s_{t},a_{t})] \\> ,\n",
    "\\end{equation*}\n",
    "\n",
    "where: \n",
    "\\begin{equation*}p^{\\pi}(a_{0},a_{1},s_{1},...,a_{T},s_{T})=p(a_{0})\\prod_{t=1}^{T}\\pi(a_{t}|s_{t})p(s_{t+1}|s_{t},a_{t}) \\> .\n",
    "\\end{equation*}\n",
    "\n",
    "We note the $Q$-function:\n",
    "\n",
    "\\begin{equation*}Q^\\pi(s,a)=E_{p^{\\pi}}[\\sum_{t\\leq T}\\gamma^{t}r(s_{t},a_{t})|s_{0}=s,a_{0}=a] \\> .\n",
    "\\end{equation*}\n",
    "\n",
    "Thus, the optimal Q function is:\n",
    "\\begin{equation*}\n",
    "Q^*(s,a)=\\max_{\\pi}Q^\\pi(s,a) \\> .\n",
    "\\end{equation*}\n",
    "\n",
    "In this project, we will apply the deep reinforcement learning techniques to a simple game: an agent will have to learn from scratch a policy that will permit it maximizing a reward."
   ]
  },
  {
   "cell_type": "markdown",
   "metadata": {
    "colab_type": "text",
    "id": "JtfGTaiJ-bT7"
   },
   "source": [
    "## The environment, the agent and the game"
   ]
  },
  {
   "cell_type": "markdown",
   "metadata": {
    "colab_type": "text",
    "id": "QYRuQKOq-bUA"
   },
   "source": [
    "### The environment"
   ]
  },
  {
   "cell_type": "markdown",
   "metadata": {
    "colab_type": "text",
    "id": "rZIeRBVK-bUF"
   },
   "source": [
    "```Environment``` is an abstract class that represents the states, rewards, and actions to obtain the new state."
   ]
  },
  {
   "cell_type": "code",
   "execution_count": 2,
   "metadata": {
    "colab": {},
    "colab_type": "code",
    "id": "v2B2mV5V-bUO"
   },
   "outputs": [],
   "source": [
    "class Environment(object):\n",
    "    def __init__(self):\n",
    "        pass\n",
    "\n",
    "    def act(self, act):\n",
    "        \"\"\"\n",
    "        One can act on the environment and obtain its reaction:\n",
    "        - the new state\n",
    "        - the reward of the new state\n",
    "        - should we continue the game?\n",
    "\n",
    "        :return: state, reward, game_over\n",
    "        \"\"\"\n",
    "        pass\n",
    "\n",
    "\n",
    "    def reset(self):\n",
    "        \"\"\"\n",
    "        Reinitialize the environment to a random state and returns\n",
    "        the original state\n",
    "\n",
    "        :return: state\n",
    "        \"\"\"\n",
    "        pass\n",
    "    \n",
    "    def draw(self):\n",
    "        \"\"\"\n",
    "        Visualize in the console or graphically the current state\n",
    "        \"\"\"\n",
    "        pass"
   ]
  },
  {
   "cell_type": "markdown",
   "metadata": {
    "colab_type": "text",
    "id": "P561-kMR-bUd"
   },
   "source": [
    "The method ```act``` allows to act on the environment at a given state $s_t$ (stored internally), via action $a_t$. The method will return the new state $s_{t+1}$, the reward $r(s_{t},a_{t})$ and determines if $t\\leq T$ (*game_over*).\n",
    "\n",
    "The method ```reset``` simply reinitializes the environment to a random state $s_0$.\n",
    "\n",
    "The method ```draw``` displays the current state $s_t$ (this is useful to check the behavior of the Agent).\n",
    "\n",
    "We modelize $s_t$ as a tensor, while $a_t$ is an integer."
   ]
  },
  {
   "cell_type": "markdown",
   "metadata": {
    "colab_type": "text",
    "id": "4Vj5rp5C-bUk"
   },
   "source": [
    "### The Agent"
   ]
  },
  {
   "cell_type": "markdown",
   "metadata": {
    "colab_type": "text",
    "id": "gHGAG0YN-bUq"
   },
   "source": [
    "The goal of the ```Agent``` is to interact with the ```Environment``` by proposing actions $a_t$ obtained from a given state $s_t$ to attempt to maximize its __reward__ $r(s_t,a_t)$. We propose the following abstract class:"
   ]
  },
  {
   "cell_type": "code",
   "execution_count": 3,
   "metadata": {
    "colab": {},
    "colab_type": "code",
    "id": "i7yusIYw-bUv"
   },
   "outputs": [],
   "source": [
    "class Agent(object):\n",
    "    def __init__(self, epsilon=0.1, n_action=4):\n",
    "        self.epsilon = epsilon\n",
    "        self.n_action = n_action\n",
    "    \n",
    "    def set_epsilon(self,e): #Used in the question 10\n",
    "        self.epsilon = e\n",
    "\n",
    "    def act(self,s,train=True):\n",
    "        \"\"\" This function should return the next action to do:\n",
    "        an integer between 0 and 4 (not included) with a random exploration of epsilon\"\"\"\n",
    "        if train:\n",
    "            if np.random.rand() <= self.epsilon:\n",
    "                a = np.random.randint(0, self.n_action, size=1)[0]\n",
    "            else:\n",
    "                a = self.learned_act(s)\n",
    "        else: # in some cases, this can improve the performance.. remove it if poor performances\n",
    "            a = self.learned_act(s)\n",
    "\n",
    "        return a\n",
    "\n",
    "    def learned_act(self,s):\n",
    "        \"\"\" Act via the policy of the agent, from a given state s\n",
    "        it proposes an action a\"\"\"\n",
    "        pass\n",
    "\n",
    "    def reinforce(self, s, n_s, a, r, game_over_):\n",
    "        \"\"\" This function is the core of the learning algorithm. \n",
    "        It takes as an input the current state s_, the next state n_s_\n",
    "        the action a_ used to move from s_ to n_s_ and the reward r_.\n",
    "        \n",
    "        Its goal is to learn a policy.\n",
    "        \"\"\"\n",
    "        pass\n",
    "\n",
    "    def save(self):\n",
    "        \"\"\" This function returns basic stats if applicable: the\n",
    "        loss and/or the model\"\"\"\n",
    "        pass\n",
    "\n",
    "    def load(self):\n",
    "        \"\"\" This function allows to restore a model\"\"\"\n",
    "        pass"
   ]
  },
  {
   "cell_type": "markdown",
   "metadata": {
    "colab_type": "text",
    "id": "z_ehRnvS-bVK"
   },
   "source": [
    "***\n",
    "__Question 1__:\n",
    "Explain the function act. Why is ```epsilon``` essential?"
   ]
  },
  {
   "cell_type": "markdown",
   "metadata": {
    "colab_type": "text",
    "id": "rikFf0Q--bVR"
   },
   "source": [
    "The objective of the function act is to return the next action o do, but there is a trade-off to do between the exploration of the environment - for which is used the random walk and the exploitation of a policy. <br>\n",
    "The objective of the parameter $\\epsilon$ is to define the probability to do  a random action. If $\\epsilon$ is too big,  the randm walk influence will be too important and the test of a policy will be too long. If $\\epsilon$ is too low the environment will not be well known and the learned policy may not be optimal."
   ]
  },
  {
   "cell_type": "markdown",
   "metadata": {
    "colab_type": "text",
    "id": "n9jAdKrV-bVU"
   },
   "source": [
    "***\n",
    "### The Game"
   ]
  },
  {
   "cell_type": "markdown",
   "metadata": {
    "colab_type": "text",
    "id": "hnYfuCNN-bVe"
   },
   "source": [
    "The ```Agent``` and the ```Environment``` work in an interlaced way as in the following (take some time to understand this code as it is the core of the project)\n",
    "\n",
    "```python\n",
    "\n",
    "epoch = 300\n",
    "env = Environment()\n",
    "agent = Agent()\n",
    "\n",
    "\n",
    "# Number of won games\n",
    "score = 0\n",
    "loss = 0\n",
    "\n",
    "\n",
    "for e in range(epoch):\n",
    "    # At each epoch, we restart to a fresh game and get the initial state\n",
    "    state = env.reset()\n",
    "    # This assumes that the games will end\n",
    "    game_over = False\n",
    "\n",
    "    win = 0\n",
    "    lose = 0\n",
    "    \n",
    "    while not game_over:\n",
    "        # The agent performs an action\n",
    "        action = agent.act(state)\n",
    "\n",
    "        # Apply an action to the environment, get the next state, the reward\n",
    "        # and if the games end\n",
    "        prev_state = state\n",
    "        state, reward, game_over = env.act(action)\n",
    "\n",
    "        # Update the counters\n",
    "        if reward > 0:\n",
    "            win = win + reward\n",
    "        if reward < 0:\n",
    "            lose = lose -reward\n",
    "\n",
    "        # Apply the reinforcement strategy\n",
    "        loss = agent.reinforce(prev_state, state,  action, reward, game_over)\n",
    "\n",
    "    # Save as a mp4\n",
    "    if e % 10 == 0:\n",
    "        env.draw(e)\n",
    "\n",
    "    # Update stats\n",
    "    score += win-lose\n",
    "\n",
    "    print(\"Epoch {:03d}/{:03d} | Loss {:.4f} | Win/lose count {}/{} ({})\"\n",
    "          .format(e, epoch, loss, win, lose, win-lose))\n",
    "    agent.save()\n",
    "```"
   ]
  },
  {
   "cell_type": "markdown",
   "metadata": {
    "colab_type": "text",
    "id": "eJo-l8UF-bVu"
   },
   "source": [
    "# The game, *eat cheese*"
   ]
  },
  {
   "cell_type": "markdown",
   "metadata": {
    "colab_type": "text",
    "id": "NH1P7ww7-bV0"
   },
   "source": [
    "A rat runs on an island and tries to eat as much as possible. The island is subdivided into $N\\times N$ cells, in which there are cheese (+0.5) and poisonous cells (-1). The rat has a visibility of 2 cells (thus it can see $5^2$ cells). The rat is given a time $T$ to accumulate as much food as possible. It can perform 4 actions: going up, down, left, right. \n",
    "\n",
    "The goal is to code an agent to solve this task that will learn by trial and error. We propose the following environment:"
   ]
  },
  {
   "cell_type": "code",
   "execution_count": 4,
   "metadata": {
    "colab": {},
    "colab_type": "code",
    "id": "mkl9Xw9y-bV4"
   },
   "outputs": [],
   "source": [
    "class Environment(object):\n",
    "    def __init__(self, grid_size=10, max_time=500, temperature=0.1):\n",
    "        grid_size = grid_size+4\n",
    "        self.grid_size = grid_size\n",
    "        self.max_time = max_time\n",
    "        self.temperature = temperature\n",
    "\n",
    "        #board on which one plays\n",
    "        self.board = np.zeros((grid_size,grid_size))\n",
    "        self.position = np.zeros((grid_size,grid_size))\n",
    "\n",
    "        # coordinate of the cat\n",
    "        self.x = 0\n",
    "        self.y = 1\n",
    "\n",
    "        # self time\n",
    "        self.t = 0\n",
    "\n",
    "        self.scale=16\n",
    "\n",
    "        self.to_draw = np.zeros((max_time+2, grid_size*self.scale, grid_size*self.scale, 3))\n",
    "\n",
    "\n",
    "    def draw(self,e):\n",
    "        skvideo.io.vwrite(str(e) + '.mp4', self.to_draw)\n",
    "\n",
    "    def get_frame(self,t):\n",
    "        b = np.zeros((self.grid_size,self.grid_size,3))+128\n",
    "        b[self.board>0,0] = 256\n",
    "        b[self.board < 0, 2] = 256\n",
    "        b[self.x,self.y,:]=256\n",
    "        b[-2:,:,:]=0\n",
    "        b[:,-2:,:]=0\n",
    "        b[:2,:,:]=0\n",
    "        b[:,:2,:]=0\n",
    "        \n",
    "        b =  cv2.resize(b, None, fx=self.scale, fy=self.scale, interpolation=cv2.INTER_NEAREST)\n",
    "\n",
    "        self.to_draw[t,:,:,:]=b\n",
    "\n",
    "\n",
    "    def act(self, action):\n",
    "        \"\"\"This function returns the new state, reward and decides if the\n",
    "        game ends.\"\"\"\n",
    "\n",
    "        self.get_frame(int(self.t))\n",
    "\n",
    "        self.position = np.zeros((self.grid_size, self.grid_size))\n",
    "\n",
    "        self.position[0:2,:]= -1\n",
    "        self.position[:,0:2] = -1\n",
    "        self.position[-2:, :] = -1\n",
    "        self.position[:, -2:] = -1 #typo\n",
    "\n",
    "        self.position[self.x, self.y] = 1\n",
    "        if action == 0:\n",
    "            if self.x == self.grid_size-3:\n",
    "                self.x = self.x-1\n",
    "            else:\n",
    "                self.x = self.x + 1\n",
    "        elif action == 1:\n",
    "            if self.x == 2:\n",
    "                self.x = self.x+1\n",
    "            else:\n",
    "                self.x = self.x-1\n",
    "        elif action == 2:\n",
    "            if self.y == self.grid_size - 3:\n",
    "                self.y = self.y - 1\n",
    "            else:\n",
    "                self.y = self.y + 1\n",
    "        elif action == 3:\n",
    "            if self.y == 2:\n",
    "                self.y = self.y + 1\n",
    "            else:\n",
    "                self.y = self.y - 1\n",
    "        else:\n",
    "            RuntimeError('Error: action not recognized')\n",
    "\n",
    "        self.t = self.t + 1\n",
    "        reward = self.board[self.x, self.y]\n",
    "        self.board[self.x, self.y] = 0\n",
    "        game_over = self.t > self.max_time\n",
    "        state = np.concatenate((self.board.reshape(self.grid_size, self.grid_size,1),\n",
    "                        self.position.reshape(self.grid_size, self.grid_size,1)),axis=2)\n",
    "        state = state[self.x-2:self.x+3,self.y-2:self.y+3,:]\n",
    "\n",
    "        return state, reward, game_over\n",
    "\n",
    "    def reset(self):\n",
    "        \"\"\"This function resets the game and returns the initial state\"\"\"\n",
    "\n",
    "        self.x = np.random.randint(3, self.grid_size-3, size=1)[0]\n",
    "        self.y = np.random.randint(3, self.grid_size-3, size=1)[0]\n",
    "\n",
    "\n",
    "        bonus = 0.5*np.random.binomial(1,self.temperature,size=self.grid_size**2)\n",
    "        bonus = bonus.reshape(self.grid_size,self.grid_size)\n",
    "\n",
    "        malus = -1.0*np.random.binomial(1,self.temperature,size=self.grid_size**2)\n",
    "        malus = malus.reshape(self.grid_size, self.grid_size)\n",
    "\n",
    "        self.to_draw = np.zeros((self.max_time+2, self.grid_size*self.scale, self.grid_size*self.scale, 3))\n",
    "\n",
    "\n",
    "        malus[bonus>0]=0\n",
    "\n",
    "        self.board = bonus + malus\n",
    "\n",
    "        self.position = np.zeros((self.grid_size, self.grid_size))\n",
    "        self.position[0:2,:]= -1\n",
    "        self.position[:,0:2] = -1\n",
    "        self.position[-2:, :] = -1\n",
    "        self.position[:, -2:] = -1 #typo\n",
    "        self.board[self.x,self.y] = 0\n",
    "        self.t = 0\n",
    "\n",
    "        state = np.concatenate((\n",
    "                               self.board.reshape(self.grid_size, self.grid_size,1),\n",
    "                        self.position.reshape(self.grid_size, self.grid_size,1)),axis=2)\n",
    "\n",
    "        state = state[self.x - 2:self.x + 3, self.y - 2:self.y + 3, :]\n",
    "        return state"
   ]
  },
  {
   "cell_type": "markdown",
   "metadata": {
    "colab_type": "text",
    "id": "QugvzJaN-bWI"
   },
   "source": [
    "The following elements are important because they correspond to the hyper parameters for this project:"
   ]
  },
  {
   "cell_type": "code",
   "execution_count": 5,
   "metadata": {
    "colab": {},
    "colab_type": "code",
    "id": "VStVHYaK-bWO"
   },
   "outputs": [],
   "source": [
    "# parameters\n",
    "size = 13\n",
    "T=200\n",
    "temperature=0.3\n",
    "epochs_train=50 # set small when debugging\n",
    "epochs_test=50 # set small when debugging\n",
    "\n",
    "# display videos\n",
    "def display_videos(name):\n",
    "    video = io.open(name, 'r+b').read()\n",
    "    encoded = base64.b64encode(video)\n",
    "    return '''<video alt=\"test\" controls>\n",
    "                <source src=\"data:video/mp4;base64,{0}\" type=\"video/mp4\" />\n",
    "             </video>'''.format(encoded.decode('ascii'))"
   ]
  },
  {
   "cell_type": "markdown",
   "metadata": {
    "colab_type": "text",
    "id": "KQ8JMF5z-bWd"
   },
   "source": [
    "__Question 2__ Explain the use of the arrays ```position``` and ```board```."
   ]
  },
  {
   "cell_type": "markdown",
   "metadata": {
    "colab_type": "text",
    "id": "87G4kIvb-bWi"
   },
   "source": [
    "\n",
    "\n",
    "1.   Use of the position array:\n",
    " We can decompose the elements of the position array in 3 parts:<br>\n",
    "  * The elements of the grid which are not accessible. It corresponds to the contour of the array with a width of 2 (i.e the two first and the two last lines, and the two first and the two last columns) - this contour corresponds to a wall where the agent cannot go but rebounces, but posing its existence this way simplifies the code with regard to the knowledge of the surrounding states part.\n",
    "  * The elements of the grid with a value 1. There is only one element with this value, and it corresponds to the current position of the agent\n",
    "  * The other states, which corresponds to the states theoretically accessible but not currently occupied, and to which are associated a value of 0.\n",
    "  \n",
    " And so, updating the position of the agent corresponds to change the aspect of the position array, by putting to zero the value associated to the old position of the agent and to 1 the the value associated to the new position of the agent - the coordinates of this position being saved in (x, y).\n",
    "\n",
    "2.  Use of the board array:\n",
    "The board array has also the contour with a width of 2 representing some inaccessible states. But the value taken on the coordinate (x, y) is the value of the reward function on the corresponding state - this one is randomly initialized and when the agent goes on a state, it \"consumes\" the reward function there, ad so the reward function in this state will return zero.\n",
    "\n",
    "The advantage of the use of arrays is that it is an understandable and simple way to store global information about the current characteristics  of our environment.\n",
    "\n",
    "\n"
   ]
  },
  {
   "cell_type": "markdown",
   "metadata": {
    "colab_type": "text",
    "id": "6ECYduLe-bWq"
   },
   "source": [
    "## Random Agent"
   ]
  },
  {
   "cell_type": "markdown",
   "metadata": {
    "colab_type": "text",
    "id": "XeX0F04a-bWy"
   },
   "source": [
    "***\n",
    "__Question 3__ Implement a random Agent (only ```learned_act``` needs to be implemented):"
   ]
  },
  {
   "cell_type": "code",
   "execution_count": 6,
   "metadata": {
    "colab": {},
    "colab_type": "code",
    "id": "7P9Bl6NG-bW3"
   },
   "outputs": [],
   "source": [
    "class RandomAgent(Agent):\n",
    "    def __init__(self):\n",
    "        super(RandomAgent, self).__init__()\n",
    "        pass\n",
    "\n",
    "    def learned_act(self, s):\n",
    "        # We randomly select an action, no matter the state\n",
    "        # In this case, the strategy is always the same no matter the value of epsilon\n",
    "        action = np.random.randint(0, self.n_action, size=1)[0]\n",
    "        return action"
   ]
  },
  {
   "cell_type": "markdown",
   "metadata": {
    "colab_type": "text",
    "id": "SGJGzPaf-bXD"
   },
   "source": [
    "***\n",
    "***\n",
    "__Question 4__ Visualize the game moves. You need to fill in the following function for the evaluation:"
   ]
  },
  {
   "cell_type": "code",
   "execution_count": 7,
   "metadata": {
    "colab": {},
    "colab_type": "code",
    "id": "tWmYoRLz-bXF"
   },
   "outputs": [],
   "source": [
    "def test(agent,env,epochs,prefix=''):\n",
    "    # Number of won games\n",
    "    score = 0\n",
    "        \n",
    "    for e in range(epochs):\n",
    "    \n",
    "        # At each epoch, we restart to a fresh game and get the initial state\n",
    "      state = env.reset()\n",
    "      # This assumes that the games will end\n",
    "      game_over = False\n",
    "\n",
    "      win = 0\n",
    "      lose = 0\n",
    "\n",
    "      while not game_over:\n",
    "          # The agent performs an action\n",
    "          action = agent.act(state, train = False)\n",
    "\n",
    "          # Apply an action to the environment, get the next state, the reward\n",
    "          # and if the games end\n",
    "          prev_state = state\n",
    "          state, reward, game_over = env.act(action)\n",
    "\n",
    "          # Update the counters\n",
    "          if reward > 0:\n",
    "              win = win + reward\n",
    "          if reward < 0:\n",
    "              lose = lose -reward         \n",
    "        \n",
    "      # Save as a mp4\n",
    "      env.draw(prefix+str(e))\n",
    "\n",
    "      # Update stats\n",
    "      score = score + win-lose\n",
    "\n",
    "      print(\"Win/lose count {}/{}. Average score ({})\"\n",
    "                .format(win, lose, score/(1+e)))\n",
    "    print('Final score: '+str(score/epochs))"
   ]
  },
  {
   "cell_type": "code",
   "execution_count": 8,
   "metadata": {
    "colab": {
     "base_uri": "https://localhost:8080/",
     "height": 1038
    },
    "colab_type": "code",
    "id": "nocp5iuZ-bXe",
    "outputId": "875d216d-aa3d-4670-b05d-0aba9b2da041"
   },
   "outputs": [
    {
     "name": "stdout",
     "output_type": "stream",
     "text": [
      "Win/lose count 6.5/9.0. Average score (-2.5)\n",
      "Win/lose count 5.5/10.0. Average score (-3.5)\n",
      "Win/lose count 12.5/12.0. Average score (-2.1666666666666665)\n",
      "Win/lose count 13.5/16.0. Average score (-2.25)\n",
      "Win/lose count 8.0/4.0. Average score (-1.0)\n",
      "Win/lose count 8.5/9.0. Average score (-0.9166666666666666)\n",
      "Win/lose count 10.0/11.0. Average score (-0.9285714285714286)\n",
      "Win/lose count 7.5/6.0. Average score (-0.625)\n",
      "Win/lose count 5.5/8.0. Average score (-0.8333333333333334)\n",
      "Win/lose count 5.5/11.0. Average score (-1.3)\n",
      "Win/lose count 11.0/12.0. Average score (-1.2727272727272727)\n",
      "Win/lose count 11.5/12.0. Average score (-1.2083333333333333)\n",
      "Win/lose count 14.5/12.0. Average score (-0.9230769230769231)\n",
      "Win/lose count 7.0/19.0. Average score (-1.7142857142857142)\n",
      "Win/lose count 10.0/11.0. Average score (-1.6666666666666667)\n",
      "Win/lose count 11.0/21.0. Average score (-2.1875)\n",
      "Win/lose count 7.5/13.0. Average score (-2.3823529411764706)\n",
      "Win/lose count 11.0/17.0. Average score (-2.5833333333333335)\n",
      "Win/lose count 8.5/21.0. Average score (-3.1052631578947367)\n",
      "Win/lose count 12.0/18.0. Average score (-3.25)\n",
      "Win/lose count 12.5/19.0. Average score (-3.4047619047619047)\n",
      "Win/lose count 16.5/14.0. Average score (-3.1363636363636362)\n",
      "Win/lose count 14.0/14.0. Average score (-3.0)\n",
      "Win/lose count 10.0/17.0. Average score (-3.1666666666666665)\n",
      "Win/lose count 10.0/9.0. Average score (-3.0)\n",
      "Win/lose count 12.5/7.0. Average score (-2.673076923076923)\n",
      "Win/lose count 7.0/9.0. Average score (-2.6481481481481484)\n",
      "Win/lose count 7.5/16.0. Average score (-2.857142857142857)\n",
      "Win/lose count 8.5/27.0. Average score (-3.396551724137931)\n",
      "Win/lose count 14.5/17.0. Average score (-3.3666666666666667)\n",
      "Win/lose count 15.0/15.0. Average score (-3.2580645161290325)\n",
      "Win/lose count 14.5/10.0. Average score (-3.015625)\n",
      "Win/lose count 6.5/15.0. Average score (-3.1818181818181817)\n",
      "Win/lose count 14.0/16.0. Average score (-3.1470588235294117)\n",
      "Win/lose count 13.5/20.0. Average score (-3.242857142857143)\n",
      "Win/lose count 11.0/14.0. Average score (-3.236111111111111)\n",
      "Win/lose count 10.0/12.0. Average score (-3.2027027027027026)\n",
      "Win/lose count 8.5/9.0. Average score (-3.1315789473684212)\n",
      "Win/lose count 6.0/16.0. Average score (-3.3076923076923075)\n",
      "Win/lose count 8.5/14.0. Average score (-3.3625)\n",
      "Win/lose count 9.0/16.0. Average score (-3.451219512195122)\n",
      "Win/lose count 11.0/7.0. Average score (-3.2738095238095237)\n",
      "Win/lose count 9.5/18.0. Average score (-3.395348837209302)\n",
      "Win/lose count 9.5/16.0. Average score (-3.465909090909091)\n",
      "Win/lose count 8.5/16.0. Average score (-3.5555555555555554)\n",
      "Win/lose count 15.0/17.0. Average score (-3.5217391304347827)\n",
      "Win/lose count 17.5/12.0. Average score (-3.3297872340425534)\n",
      "Win/lose count 13.0/16.0. Average score (-3.3229166666666665)\n",
      "Win/lose count 12.5/17.0. Average score (-3.3469387755102042)\n",
      "Win/lose count 9.5/18.0. Average score (-3.45)\n",
      "Final score: -3.45\n"
     ]
    },
    {
     "data": {
      "text/html": [
       "<video alt=\"test\" controls>\n",
       "                <source src=\"data:video/mp4;base64,AAAAIGZ0eXBpc29tAAACAGlzb21pc28yYXZjMW1wNDEAAAAIZnJlZQAAGJxtZGF0AAACrQYF//+p3EXpvebZSLeWLNgg2SPu73gyNjQgLSBjb3JlIDE1MiByMjg1NCBlOWE1OTAzIC0gSC4yNjQvTVBFRy00IEFWQyBjb2RlYyAtIENvcHlsZWZ0IDIwMDMtMjAxNyAtIGh0dHA6Ly93d3cudmlkZW9sYW4ub3JnL3gyNjQuaHRtbCAtIG9wdGlvbnM6IGNhYmFjPTEgcmVmPTMgZGVibG9jaz0xOjA6MCBhbmFseXNlPTB4MToweDExMSBtZT1oZXggc3VibWU9NyBwc3k9MSBwc3lfcmQ9MS4wMDowLjAwIG1peGVkX3JlZj0xIG1lX3JhbmdlPTE2IGNocm9tYV9tZT0xIHRyZWxsaXM9MSA4eDhkY3Q9MCBjcW09MCBkZWFkem9uZT0yMSwxMSBmYXN0X3Bza2lwPTEgY2hyb21hX3FwX29mZnNldD00IHRocmVhZHM9NiBsb29rYWhlYWRfdGhyZWFkcz0xIHNsaWNlZF90aHJlYWRzPTAgbnI9MCBkZWNpbWF0ZT0xIGludGVybGFjZWQ9MCBibHVyYXlfY29tcGF0PTAgY29uc3RyYWluZWRfaW50cmE9MCBiZnJhbWVzPTMgYl9weXJhbWlkPTIgYl9hZGFwdD0xIGJfYmlhcz0wIGRpcmVjdD0xIHdlaWdodGI9MSBvcGVuX2dvcD0wIHdlaWdodHA9MiBrZXlpbnQ9MjUwIGtleWludF9taW49MjUgc2NlbmVjdXQ9NDAgaW50cmFfcmVmcmVzaD0wIHJjX2xvb2thaGVhZD00MCByYz1jcmYgbWJ0cmVlPTEgY3JmPTIzLjAgcWNvbXA9MC42MCBxcG1pbj0wIHFwbWF4PTY5IHFwc3RlcD00IGlwX3JhdGlvPTEuNDAgYXE9MToxLjAwAIAAAAMIZYiEADP//vaG+BTYUyP+T7/8I/+5H7cfWfrixkIJvrVeQ9GAMl8a/5lGYaXpyc8t7R+vTNAEZz8ZS8pZp9o/ApmtrL5lb/cCsanmJQSyBJFEsc4fX425zS8BlNLHVMWLdZWdvP5oKc8TVUecBYTXGx6W6RDAkMSHJBG7TONkAcOBpziOLjsxh6Ahw4lISyJM/Sc+QK81rgotwtBMVLt8/+wf3qBep32FKTh3xMQIooG2ErpPM+6/K5l6otqYAMdDJ04M4HNFlcPk4Ra5dEX3CTAwY2/lcNlxdwJwQFTEMmIvSCnB4ih9vtEBTjsJHCma34JEgdKd5fdm8E4NtQA4rBU8VUACcByShcPWDEZWdtffPKNCrr5EZVdVHeXZ1S9gNo/zK+P9n08DNtNif2RfnInGUTBMgJ7qgy3CiarkHWDADyZGbYQrxLvVx0xg8RrdgS+4nYDqcLheRrTWhKiiVe7jQGjzdDb7Nhsag/6vOuzGtvVjvJhF8fAuEy9l5iRUA7RR38qV8HuE8hvMWt0edggLoxrogMc6UhIxDWOOvbi35VT/bQBqYIY49eY89ulzJmcCcwJtRODtclXgWp1uwiV11p5zaQI3OQAKE1DHJgjHFQt+VOedhF0HZ2PweHSgIGv3mtLmxs/TNtS/3q12080fuKAExwLrgXchhC1tDun55VzMHWyRSSl0dYDytHCNc7tUKAkEnXA04lzJzgXdGH62AhXRXMOlUAomnHhy2IGdjJZnW4Abgvm+Kh/aSNn5pLvbOi/QDEyAOhWy0IGjq1JoJtvLSiniHTAM4ycDVZJN/BFI5gPt112UW6jgHxM3zCukcsLDdTS02eT3kQiqamPD/aXnxdXyNdA7DCDZAjNqYyx5htszvV3DxTI0wX6vLraCNwqI2NvdrqPBsicZJrbZ0/69MnnWhbXplkcufgrEB/knpGT3JUYjDYLJ/+vzOxtXWE9h9bM6hpeyZjjVEeIwJUHSX/ZJ0I0a6u+2dCvD5ho3ko46tjqtGb8ETUobl9EnAwAAGPEAAAAUQZohbEN//qeEAE1dazbbPs+ak4AAAAAYQZpCPCGTKYQ3//6nhAB2jjP9VvmPxDehAAAAHUGaZEnhDyZTBTw3//6nhAB5/fZ741T+dy6POLi4AAAAEAGeg2pCvwBkmbmuPFW0l+EAAAAnQZqGSeEPJlMFPDf//qeEAE/91P3a3woXMsrnun4FKlo/ApnYGL2hAAAAEAGepWpCvwA/gRM030kHH0kAAAAWQZqqSeEPJlMCG//+p4QAIagCzbb5UQAAAA5BnshFETwv/wAUdlQ2YAAAABABnud0Qr8AKz0DYM4xOLn8AAAAEwGe6WpCvwArKjharNoFieG2SBEAAAAdQZrsSahBaJlMFPDf/qeEAFI91OP8TXGqIPm8L1IAAAAQAZ8LakK/AEFeaJkTSs36QAAAABlBmw1J4QpSZTAhv/6nhAB5TjP9VvmPxDZhAAAAHkGbMUnhDomUwIb//qeEALl6MjIu3xp/KtHBrQPlsQAAABVBn09FETwv/wBukkvzNuJnf3Pcds0AAAAQAZ9udEK/AJb6iRPizFG1sAAAABABn3BqQr8AlsrkVeAJ/SqAAAAAGUGbdEmoQWiZTAhn//6eEAEu+IedboGSHQ0AAAAPQZ+SRREsK/8APiCuGv/AAAAADQGfs2pCvwA+NfjCl/4AAAAZQZu1SahBbJlMCGf//p4QASb4h/bIY+sJdwAAABhBm9ZJ4QpSZTAhn/6eEAC/+vv5EiPrCj4AAAAYQZv3SeEOiZTAhn/+nhAAe/1xt7033XB7AAAAGEGaGEnhDyZTAhn//p4QAH69cbe9N91wZwAAABlBmjlJ4Q8mUwIb//6nhAAg3x0+o40JDmVAAAAAKEGaW0nhDyZTBRE8M//+nhAAWP3gbVwKa+oV8yxLBfMsmwdO57upxNkAAAAQAZ56akK/ABJdiPJcz5M2gAAAABlBmnxJ4Q8mUwIZ//6eEABaq9xf+I6hLjuBAAAAGUGanUnhDyZTAhv//qeEABdfdT9RxoSHR8EAAAAZQZq+SeEPJlMCG//+p4QADuewf4Tgt0KfwAAAAB9BmsBJ4Q8mUwURPDv//qmWAATn48/LperrWcoNxEDgAAAAEAGe/2pCvwAHxBec60MMB8EAAAAdQZrkSeEPJlMCG//+p4QABifYP88grVMhINS5zWgAAAAQQZ8CRRE8L/8AA5/8VdmTswAAABABnyF0Qr8ABPk6k8r8lO2QAAAADwGfI2pCvwADQ5ybrPVpHwAAABpBmyZJqEFomUwU8O/+qZYAAxWOQj/Af/87bwAAABABn0VqQr8ABR1GiZE0rT1BAAAAG0GbSknhClJlMCG//qeEAAmo+ZqbNuM3up8chQAAABBBn2hFNEwv/wAF0ZYJ8fbAAAAAEAGfh3RCvwAHxirVeBFeVIAAAAAPAZ+JakK/AAfGvmh1o3aBAAAAGkGbjUmoQWiZTAhv//6nhAAO0cZ/quAx+LegAAAAEUGfq0URLCv/AAxDtP+jkiuPAAAADgGfzGpCvwAMQ7Vc1649AAAAGUGbzkmoQWyZTAhv//6nhAAO57B69mfBFt8AAAARQZvySeEKUmUwIb/+p4QAAScAAAATQZ4QRTRML/8ADS+uWM24nTH3EgAAABABni90Qr8AEmEAc7Y402rgAAAAEAGeMWpCvwASW1rt7WGSauEAAAAaQZozSahBaJlMCG///qeEAA6PsH+E4LdCokAAAAAZQZpUSeEKUmUwId/+qZYABMfjz9+yDcVd4AAAABJBmnhJ4Q6JlMCHf/6plgAAlYEAAAAMQZ6WRRE8L/8AALKAAAAAEAGetXRCvwAE6so78AH3TkEAAAAPAZ63akK/AAUdRogtR5kpAAAAEkGavEmoQWiZTAhv//6nhAABJwAAABRBntpFESwv/wAF0TZyZtw09a65sQAAABABnvl0Qr8AB8Yq1XgRXlSAAAAADwGe+2pCvwAHxB/VIoEsJwAAABpBmv9JqEFsmUwIb//+p4QACWoAs22z7PnrQQAAABJBnx1FFSwr/wAHmZ31j8F+1EAAAAAOAZ8+akK/AAeZni2fq/4AAAAaQZsgSahBbJlMCG///qeEAA55xn+q3zH4uOEAAAAYQZtCSeEKUmUwUVLDv/6plgAHJ9pf1ffAAAAADwGfYWpCvwAL9YgeTBINgQAAABJBm2ZJ4Q6JlMCHf/6plgAAlYAAAAATQZ+ERRU8L/8ADc+uPb24cCPvGwAAABABn6N0Qr8AEt81QOnah3mBAAAAEAGfpWpCvwAS2T5zrQwvfMEAAAASQZuqSahBaJlMCG///qeEAAEnAAAADEGfyEURLC//AACygAAAABABn+d0Qr8AC85ycR2XZjSAAAAADwGf6WpCvwAMQCxolc8wHwAAABJBm+5JqEFsmUwIb//+p4QAAScAAAAMQZ4MRRUsL/8AALKAAAAAEAGeK3RCvwALznJxHZdmNIEAAAAQAZ4takK/AAvOcnezx9xLgQAAABpBmi9JqEFsmUwIb//+p4QADo+wf4Tgt0KiQQAAABlBmlBJ4QpSZTAh3/6plgAEx+POlnR1PMnAAAAAGkGadEnhDomUwId//qmWAASn48/mbMQUxD+YAAAAEEGekkURPC//AAWJlioQbjEAAAAQAZ6xdEK/AAdrizPK/JTmmAAAAA8BnrNqQr8AB5jUOhaN9MAAAAAcQZq4SahBaJlMCG///qeEAAYn2D/PIK1TISLoqQAAABBBntZFESwv/wADoJ1G9hB4AAAADwGe9XRCvwAFHtHeecaUgQAAABABnvdqQr8ABR6UbzTFW4rBAAAAGkGa+UmoQWyZTAh3//6plgADKVIM0AfR/teQAAAAHEGbHUnhClJlMCHf/qmWAATBiEM0Cn0qgx/7H6kAAAAQQZ87RTRML/8ABa2WKhBtkAAAABABn1p0Qr8AB8bFYtjZUqoxAAAADwGfXGpCvwAHw5w2ByovgQAAABNBm0FJqEFomUwId//+qZYAAJWAAAAADEGff0URLC//AACygAAAABABn550Qr8AC/WVd1fjvDfBAAAAEAGfgGpCvwAHhUN7FaPuUYAAAAAcQZuFSahBbJlMCHf//qmWAATH48/maFQLRTEP1wAAABBBn6NFFSwv/wAFroEVpRtkAAAADwGfwnRCvwAHxbA118ZAgQAAABABn8RqQr8AB5giZpvpIPHxAAAAE0GbyUmoQWyZTAh3//6plgAAlYEAAAATQZ/nRRUsL/8AA7cS2amZZchrYwAAABABngZ0Qr8ABR01oyS3+1TAAAAAEAGeCGpCvwAFHseW4bNrUIAAAAASQZoNSahBbJlMCG///qeEAAEnAAAADEGeK0UVLC//AACygAAAAA8Bnkp0Qr8ABQ7KOI7Ls78AAAAPAZ5MakK/AAUOyjdZ6tEpAAAAHEGaUUmoQWyZTAhv//6nhAAJaPmqazbmvHT7Y6kAAAAVQZ5vRRUsL/8ABa6BFPBhUEfu1e0FAAAAEAGejnRCvwAFHTWjJLf7VMAAAAAQAZ6QakK/AAeZngXX9uIwYAAAABlBmpJJqEFsmUwIb//+p4QACXfHTH+H1bgNAAAAGUGas0nhClJlMCHf/qmWAASn48/fsg3FXuAAAAAdQZrXSeEOiZTAhv/+p4QABf/YP88grVMhINS5zagAAAAQQZ71RRE8L/8AA4n8VdmTvQAAABABnxR0Qr8ABNXak8r8lO4wAAAADwGfFmpCvwAE+ja7vu+6wQAAABlBmxpJqEFomUwIb//+p4QAA+XsHr2Z8EZ/AAAAEUGfOEURLCv/AANMzc1xlhEPAAAADgGfWWpCvwADTEhmTcvfAAAAHEGbXEmoQWyZTBRMN//+p4QABh8OSzbjN7qfH/gAAAAPAZ97akK/AAT6wjyYHr6vAAAAGUGbfUnhClJlMCG//qeEAAlqALNts+z560EAAAAbQZuBSeEOiZTAhn/+nhAAOd65G7HDS3199vzgAAAAEEGfv0URPC//AAjufs3BEnAAAAAPAZ/edEK/AAv1lXd5u7HBAAAAEAGfwGpCvwAMQ6p5MD18NIAAAAAaQZvCSahBaJlMCG///qeEABc/RP9VwGPxR8EAAAAZQZvjSeEKUmUwIb/+p4QAI6gCzbbTC+bQQAAAABlBmgRJ4Q6JlMCHf/6plgAbypBmgD6P9g5RAAAAG0GaKEnhDyZTAhv//qeEADd+wfzaQS2QZbV4MQAAABBBnkZFETwv/wAgueMN0Nb1AAAADwGeZXRCvwAtcYQGSXL/gQAAABABnmdqQr8ALW1851TMbyZAAAAAHkGaakmoQWiZTBTw3/6nhAA0/sH+e+WzwKbIwS0JdwAAABABnolqQr8ALFG129rDJJ7hAAAAHEGajEnhClJlMFLDf/6nhAAi3x0+5kYWzFCOY8wAAAAPAZ6rakK/ABxQf1SKBKvTAAAAGUGarUnhDomUwId//qmWAAs3vq+uxBuKl9EAAAAbQZrRSeEPJlMCG//+p4QADjewf55BWqZCRcUZAAAAEEGe70URPC//AAhtAcvIxyEAAAAQAZ8OdEK/AAuidSeV+SnDcAAAAA8BnxBqQr8AB5q+aHWje4AAAAAaQZsSSahBaJlMCHf//qmWAATH486WdHU8ycEAAAAWQZs2SeEKUmUwId/+qZYABIfjz+TJwAAAAA5Bn1RFNEwv/wAFZoCZ8AAAABABn3N0Qr8AB1lDey6r+GhBAAAADwGfdWpCvwAHWUN2GerQkwAAABNBm3pJqEFomUwId//+qZYAAJWBAAAADEGfmEURLC//AACygQAAABABn7d0Qr8AB1lDey6r+GhAAAAADwGfuWpCvwAHWUN2GerQkwAAABxBm75JqEFsmUwIb//+p4QADng8OLGqH++OnjTMAAAAEEGf3EUVLC//AAiufs3BEvEAAAAPAZ/7dEK/AAdsvQGSXWWBAAAAEAGf/WpCvwAL87Utw2bVkIAAAAAaQZvhSahBbJlMCG///qeEABavRP9VvmPxScAAAAASQZ4fRRUsK/8AEl2iF2G+l6UpAAAAEAGeIGpCvwAS15omRNKzzMAAAAAdQZojSahBbJlMFEw3//6nhAAjo+ZqbNuM3up8YH0AAAAQAZ5CakK/AB0GYPJgevdygAAAABxBmkVJ4QpSZTBSw7/+qZYAGygs5QZoFPox+mTbAAAAEAGeZGpCvwAtajRMiaVnG0EAAAAbQZppSeEOiZTAh3/+qZYAG09pf1/VahZClz8fAAAAEEGeh0UVPC//AB/E6d/m+akAAAAPAZ6mdEK/ACxRhAZJcwOAAAAADwGeqGpCvwAsTbdKNIeKvwAAABlBmq1JqEFomUwIb//+p4QANfag7t9g/XIrAAAAFUGey0URLC//AB/E6d7aUgjp2sV4BAAAABABnup0Qr8AHFbA1tMoepNAAAAAEAGe7GpCvwAsVjxyv7cP6UEAAAAcQZrxSahBbJlMCGf//p4QAT2vdcRz+kdff0v/IQAAABBBnw9FFSwv/wAxCrxvYJG5AAAADwGfLnRCvwAsUYxcB+XOoAAAABABnzBqQr8AQ15omRNKzfdAAAAAGkGbMkmoQWyZTAhv//6nhAB8DjP9VvmPxDUhAAAAF0GbU0nhClJlMCG//qeEAHwTmJCAQV4eAAAAG0Gbd0nhDomUwIb//qeEAL77qftV5udW7PUqYAAAABFBn5VFETwv/wBxP2jGqjpvlQAAAA8Bn7R0Qr8AmwgDoTkvBsAAAAAQAZ+2akK/AGcZua48VbSWoQAAABlBm7lJqEFomUwU8M/+nhAB2kI+R19/S+rhAAAAEAGf2GpCvwBnAWNe80rN0EAAAAAbQZvaSeEKUmUwIb/+p4QAvfon+q31UCE/umphAAAAGEGb+0nhDomUwIb//qeEASRAFm2MUJRNwAAAADJBmh1J4Q8mUwURPDv//qmWBJ1CcfEINv/wlPjpi//wibGL//CTur/HipIHD+qNFy0+YQAAABABnjxqQr8CXs7wK/tE+WzBAAAAH0GaIUnhDyZTAhv//qeECfMMalz9Anf7o2092K2kbUAAAAAQQZ5fRRE8L/8B1faEV18soAAAABABnn50Qr8Cdkga2mDgr3+BAAAADwGeYGpCvwJ12h0JptBtwAAAABlBmmVJqEFomUwIZ//+nhAezFK58Q/u6E3BAAAAEEGeg0URLC//AcOrnfYF7lgAAAAPAZ6idEK/AnbSsYL+0G3BAAAAEAGepGpCvwJez26VDkgrDUkAAAAaQZqpS6hCEFskRggoB/IB/YeAIV/+OEAAEXEAAAAjQZ7HRRUsL/8CAdzqS9szCrmA6Bq1qFwJQBlok8LfMpM0nDEAAAAQAZ7mdEK/AlSwDdIA+3dbQAAAACMBnuhqQr8Cr2PtWv6svg0D1rVFyDLaJFpbLXXmXlALmDZqEwAAC+htb292AAAAbG12aGQAAAAAAAAAAAAAAAAAAAPoAAAfkAABAAABAAAAAAAAAAAAAAAAAQAAAAAAAAAAAAAAAAAAAAEAAAAAAAAAAAAAAAAAAEAAAAAAAAAAAAAAAAAAAAAAAAAAAAAAAAAAAAAAAAACAAALEnRyYWsAAABcdGtoZAAAAAMAAAAAAAAAAAAAAAEAAAAAAAAfkAAAAAAAAAAAAAAAAAAAAAAAAQAAAAAAAAAAAAAAAAAAAAEAAAAAAAAAAAAAAAAAAEAAAAABEAAAARAAAAAAACRlZHRzAAAAHGVsc3QAAAAAAAAAAQAAH5AAAAQAAAEAAAAACoptZGlhAAAAIG1kaGQAAAAAAAAAAAAAAAAAADIAAAGUAFXEAAAAAAAtaGRscgAAAAAAAAAAdmlkZQAAAAAAAAAAAAAAAFZpZGVvSGFuZGxlcgAAAAo1bWluZgAAABR2bWhkAAAAAQAAAAAAAAAAAAAAJGRpbmYAAAAcZHJlZgAAAAAAAAABAAAADHVybCAAAAABAAAJ9XN0YmwAAACVc3RzZAAAAAAAAAABAAAAhWF2YzEAAAAAAAAAAQAAAAAAAAAAAAAAAAAAAAABEAEQAEgAAABIAAAAAAAAAAEAAAAAAAAAAAAAAAAAAAAAAAAAAAAAAAAAAAAAAAAAAAAY//8AAAAvYXZjQwH0AA3/4QAXZ/QADZGbKCIR0IAAAAMAgAAAGQeKFMsBAAVo6+PESAAAABhzdHRzAAAAAAAAAAEAAADKAAACAAAAABRzdHNzAAAAAAAAAAEAAAABAAAFwGN0dHMAAAAAAAAAtgAAAAMAAAQAAAAAAQAABgAAAAABAAACAAAAAAEAAAYAAAAAAQAAAgAAAAABAAAKAAAAAAEAAAQAAAAAAQAAAAAAAAABAAACAAAAAAEAAAYAAAAAAQAAAgAAAAABAAAEAAAAAAEAAAoAAAAAAQAABAAAAAABAAAAAAAAAAEAAAIAAAAAAQAACAAAAAACAAACAAAAAAUAAAQAAAAAAQAABgAAAAABAAACAAAAAAMAAAQAAAAAAQAABgAAAAABAAACAAAAAAEAAAoAAAAAAQAABAAAAAABAAAAAAAAAAEAAAIAAAAAAQAABgAAAAABAAACAAAAAAEAAAoAAAAAAQAABAAAAAABAAAAAAAAAAEAAAIAAAAAAQAACAAAAAACAAACAAAAAAEAAAQAAAAAAQAACgAAAAABAAAEAAAAAAEAAAAAAAAAAQAAAgAAAAACAAAEAAAAAAEAAAoAAAAAAQAABAAAAAABAAAAAAAAAAEAAAIAAAAAAQAACgAAAAABAAAEAAAAAAEAAAAAAAAAAQAAAgAAAAABAAAIAAAAAAIAAAIAAAAAAQAABAAAAAABAAAGAAAAAAEAAAIAAAAAAQAACgAAAAABAAAEAAAAAAEAAAAAAAAAAQAAAgAAAAABAAAKAAAAAAEAAAQAAAAAAQAAAAAAAAABAAACAAAAAAEAAAoAAAAAAQAABAAAAAABAAAAAAAAAAEAAAIAAAAAAgAABAAAAAABAAAKAAAAAAEAAAQAAAAAAQAAAAAAAAABAAACAAAAAAEAAAoAAAAAAQAABAAAAAABAAAAAAAAAAEAAAIAAAAAAQAABAAAAAABAAAKAAAAAAEAAAQAAAAAAQAAAAAAAAABAAACAAAAAAEAAAoAAAAAAQAABAAAAAABAAAAAAAAAAEAAAIAAAAAAQAACgAAAAABAAAEAAAAAAEAAAAAAAAAAQAAAgAAAAABAAAKAAAAAAEAAAQAAAAAAQAAAAAAAAABAAACAAAAAAEAAAoAAAAAAQAABAAAAAABAAAAAAAAAAEAAAIAAAAAAQAACgAAAAABAAAEAAAAAAEAAAAAAAAAAQAAAgAAAAACAAAEAAAAAAEAAAoAAAAAAQAABAAAAAABAAAAAAAAAAEAAAIAAAAAAQAACAAAAAACAAACAAAAAAEAAAYAAAAAAQAAAgAAAAABAAAEAAAAAAEAAAoAAAAAAQAABAAAAAABAAAAAAAAAAEAAAIAAAAAAwAABAAAAAABAAAKAAAAAAEAAAQAAAAAAQAAAAAAAAABAAACAAAAAAEAAAYAAAAAAQAAAgAAAAABAAAGAAAAAAEAAAIAAAAAAQAABAAAAAABAAAKAAAAAAEAAAQAAAAAAQAAAAAAAAABAAACAAAAAAEAAAQAAAAAAQAACgAAAAABAAAEAAAAAAEAAAAAAAAAAQAAAgAAAAABAAAKAAAAAAEAAAQAAAAAAQAAAAAAAAABAAACAAAAAAEAAAoAAAAAAQAABAAAAAABAAAAAAAAAAEAAAIAAAAAAQAACAAAAAACAAACAAAAAAEAAAYAAAAAAQAAAgAAAAABAAAGAAAAAAEAAAIAAAAAAQAACgAAAAABAAAEAAAAAAEAAAAAAAAAAQAAAgAAAAABAAAKAAAAAAEAAAQAAAAAAQAAAAAAAAABAAACAAAAAAEAAAoAAAAAAQAABAAAAAABAAAAAAAAAAEAAAIAAAAAAgAABAAAAAABAAAKAAAAAAEAAAQAAAAAAQAAAAAAAAABAAACAAAAAAEAAAYAAAAAAQAAAgAAAAACAAAEAAAAAAEAAAYAAAAAAQAAAgAAAAABAAAKAAAAAAEAAAQAAAAAAQAAAAAAAAABAAACAAAAAAEAAAoAAAAAAQAABAAAAAABAAAAAAAAAAEAAAIAAAAAAQAACgAAAAABAAAEAAAAAAEAAAAAAAAAAQAAAgAAAAAcc3RzYwAAAAAAAAABAAAAAQAAAMoAAAABAAADPHN0c3oAAAAAAAAAAAAAAMoAAAW9AAAAGAAAABwAAAAhAAAAFAAAACsAAAAUAAAAGgAAABIAAAAUAAAAFwAAACEAAAAUAAAAHQAAACIAAAAZAAAAFAAAABQAAAAdAAAAEwAAABEAAAAdAAAAHAAAABwAAAAcAAAAHQAAACwAAAAUAAAAHQAAAB0AAAAdAAAAIwAAABQAAAAhAAAAFAAAABQAAAATAAAAHgAAABQAAAAfAAAAFAAAABQAAAATAAAAHgAAABUAAAASAAAAHQAAABUAAAAXAAAAFAAAABQAAAAeAAAAHQAAABYAAAAQAAAAFAAAABMAAAAWAAAAGAAAABQAAAATAAAAHgAAABYAAAASAAAAHgAAABwAAAATAAAAFgAAABcAAAAUAAAAFAAAABYAAAAQAAAAFAAAABMAAAAWAAAAEAAAABQAAAAUAAAAHgAAAB0AAAAeAAAAFAAAABQAAAATAAAAIAAAABQAAAATAAAAFAAAAB4AAAAgAAAAFAAAABQAAAATAAAAFwAAABAAAAAUAAAAFAAAACAAAAAUAAAAEwAAABQAAAAXAAAAFwAAABQAAAAUAAAAFgAAABAAAAATAAAAEwAAACAAAAAZAAAAFAAAABQAAAAdAAAAHQAAACEAAAAUAAAAFAAAABMAAAAdAAAAFQAAABIAAAAgAAAAEwAAAB0AAAAfAAAAFAAAABMAAAAUAAAAHgAAAB0AAAAdAAAAHwAAABQAAAATAAAAFAAAACIAAAAUAAAAIAAAABMAAAAdAAAAHwAAABQAAAAUAAAAEwAAAB4AAAAaAAAAEgAAABQAAAATAAAAFwAAABAAAAAUAAAAEwAAACAAAAAUAAAAEwAAABQAAAAeAAAAFgAAABQAAAAhAAAAFAAAACAAAAAUAAAAHwAAABQAAAATAAAAEwAAAB0AAAAZAAAAFAAAABQAAAAgAAAAFAAAABMAAAAUAAAAHgAAABsAAAAfAAAAFQAAABMAAAAUAAAAHQAAABQAAAAfAAAAHAAAADYAAAAUAAAAIwAAABQAAAAUAAAAEwAAAB0AAAAUAAAAEwAAABQAAAAeAAAAJwAAABQAAAAnAAAAFHN0Y28AAAAAAAAAAQAAADAAAABidWR0YQAAAFptZXRhAAAAAAAAACFoZGxyAAAAAAAAAABtZGlyYXBwbAAAAAAAAAAAAAAAAC1pbHN0AAAAJal0b28AAAAdZGF0YQAAAAEAAAAATGF2ZjU3LjgzLjEwMA==\" type=\"video/mp4\" />\n",
       "             </video>"
      ],
      "text/plain": [
       "<IPython.core.display.HTML object>"
      ]
     },
     "execution_count": 8,
     "metadata": {},
     "output_type": "execute_result"
    }
   ],
   "source": [
    "# Initialize the game\n",
    "env = Environment(grid_size=size, max_time=T,temperature=temperature)\n",
    "\n",
    "# Initialize the agent!\n",
    "agent = RandomAgent()\n",
    "\n",
    "test(agent,env,epochs_test,prefix='random')\n",
    "HTML(display_videos('random0.mp4'))"
   ]
  },
  {
   "cell_type": "markdown",
   "metadata": {
    "colab_type": "text",
    "id": "02Jo0FpG-bX0"
   },
   "source": [
    "***\n",
    "## DQN"
   ]
  },
  {
   "cell_type": "markdown",
   "metadata": {
    "colab_type": "text",
    "id": "wB7LeFk8-bX3"
   },
   "source": [
    "Let us assume here that $T=\\infty$.\n",
    "\n",
    "***\n",
    "__Question 5__ Let $\\pi$ be a policy, show that:\n",
    "\n",
    "\\begin{equation*}\n",
    "Q^{\\pi}(s,a)=E_{(s',a')\\sim p(.|s,a)}[r(s,a)+\\gamma Q^{\\pi}(s',a')]\n",
    "\\end{equation*}\n",
    "\n",
    "Then, show that for the optimal policy $\\pi^*$ (we assume its existence), the following holds: \n",
    "\n",
    "\\begin{equation*}\n",
    "Q^{*}(s,a)=E_{s'\\sim \\pi^*(.|s,a)}[r(s,a)+\\gamma\\max_{a'}Q^{*}(s',a')].\n",
    "\\end{equation*}\n",
    "Finally, deduce that a plausible objective is:\n",
    "\n",
    "\\begin{equation*}\n",
    "\\mathcal{L}(\\theta)=E_{s' \\sim \\pi^*(.|s,a)}\\Vert r+\\gamma\\max\\max_{a'}Q(s',a',\\theta)-Q(s,a,\\theta)\\Vert^{2}.\n",
    "\\end{equation*}\n",
    "\n",
    "\n"
   ]
  },
  {
   "cell_type": "markdown",
   "metadata": {
    "colab_type": "text",
    "id": "v9gfekZs-bX7"
   },
   "source": [
    "I]\n",
    "\\begin{equation*}Q^\\pi(s,a)=E_{p^\\pi}[\\sum_{t=0}^{\\infty} \\gamma^{t}r(s_{t},a_{t})|s_{0}=s,a_{0}=a]  \\\\ = r(s ,a) + E_{p^\\pi}[\\sum_{t=1}^{\\infty} \\gamma^{t}r(s_{t},a_{t})|s_{0}=s,a_{0}=a] \\\\ = r(s ,a) + \\gamma E_{p^\\pi}[\\sum_{t=0}^{\\infty} \\gamma^{t}r(s_{t+1},a_{t+1})|s_{0}=s,a_{0}=a] \\\\ = r(s, a) + \\gamma\\sum_{s', a'} E_{p^\\pi}[\\sum_{t=0}^{\\infty} \\gamma^{t}r(\\hat{s}_{t},\\hat{a}_{t})|\\hat{s}_{0}=s' ,\\hat{a}_{0}=a'] P_\\pi(s', a'| s_0 = s, a_0 = a) \\\\  =  r(s, a) + \\gamma\\sum_{s', a'} Q^\\pi (s', a')P_\\pi(s', a'| s_0 = s, a_0= a) \\\\ = E_{(s',a')\\sim p(.|s,a)}[r(s,a)+\\gamma Q^{\\pi}(s',a')] ( \\text{ as r(s,a) is constant})\\end{equation*}\n"
   ]
  },
  {
   "cell_type": "markdown",
   "metadata": {
    "colab_type": "text",
    "id": "7H-_babyfPN1"
   },
   "source": [
    "II]\n",
    "\\begin{equation*}\n",
    "Q^{\\star}(s,a)= \\max\\limits_\\pi Q^\\pi (s,a) = \\max\\limits_\\pi E_{(s',a')\\sim p(.|s,a)}[r(s,a)+\\gamma Q^{\\pi}(s',a')] \\\\ = r(s,a) +\\gamma \\max\\limits_\\pi E_{(s',a')\\sim p(.|s,a)}[Q^{\\pi}(s',a')]  \\\\ \\end{equation*}\n",
    "Let's show that $\\max\\limits_\\pi E_{(s',a')\\sim p(.|s,a)}[Q^{\\pi}(s',a')]$ = $E_{(s',a')\\sim p(.|s,a)}[\\max\\limits_\\pi Q^{\\pi}(s',a')]:$ <br>\n",
    "\\begin{equation*}\n",
    "\\max\\limits_\\pi E_{(s',a')\\sim p(.|s,a)}[Q^{\\pi}(s',a')] = \\max\\limits_\\pi \\sum_{s', a'} p(s', a'| s, a) Q^{\\pi}(s',a') =  \\max\\limits_\\pi \\sum_{s', a'} p(s'| s, a) \\pi(a'|s') Q^{\\pi}(s',a')\n",
    "\\end{equation*}\n",
    "But, $\\forall \\pi, \\max\\limits_\\pi \\sum_{s'} \\sum_{a'} p(s'| s, a) \\pi(a'|s') Q^{\\pi}(s',a') \\leq \\sum_{s'} \\max\\limits_{a'} p(s'| s, a) Q^{\\star}(s',a') = \\sum_{s'} \\sum_{a'} p(s'| s, a) \\pi^\\star(a'|s') Q^{\\star}(s',a')$, as $0 \\leq \\pi(a'|s') \\leq 1$, $\\sum_{a'} \\pi(a'|s') = 1$ and by the definition of $Q^{\\star}$.<br>\n",
    "Moreover, we have the other inequality by considering that the evaluation on the strategy $\\pi^\\star$ is lower than the $\\max\\limits_\\pi$.\n",
    "\n",
    "So, we have $Q^{\\star}(s,a)= r(s, a) + E_{(s')\\sim p(.|s,a)}[\\max\\limits_{a'} Q^{\\star}(s',a')]$\n"
   ]
  },
  {
   "cell_type": "markdown",
   "metadata": {
    "colab_type": "text",
    "id": "tumOJmSA5ZHI"
   },
   "source": [
    "III]\n",
    "\n",
    "\n",
    "Let $Q(s, a; \\theta)$ be the approximation of the optimal Q-value function parametrized by $\\theta$. If we use the classic quadratic loss function, we can say that\n",
    "$\\mathcal{L}(\\theta) = E_{s' \\sim \\pi^*(.|s,a)}[\\Vert Q^\\star (s, a)-Q(s,a,\\theta)\\Vert^{2}].$ But how to estimate $Q^\\star$ ?\n",
    "For that, we will use the formula defined on the point 2. with $Q(s, a, \\theta)$, as it will be equal to 0 if we have the good $Q^\\star$:\n",
    "$ E_{s' \\sim \\pi^*(.|s,a)}[\\Vert r+\\gamma \\max_{a'}Q(s',a',\\theta) -Q(s,a,\\theta)\\Vert^{2}]$\n",
    "\n",
    "\n",
    "\n"
   ]
  },
  {
   "cell_type": "markdown",
   "metadata": {
    "colab_type": "text",
    "id": "4xQXT_MU-bYK"
   },
   "source": [
    "***\n",
    "The DQN-learning algorithm relies on these derivations to train the parameters $\\theta$ of a Deep Neural Network:\n",
    "\n",
    "1. At the state $s_t$, select the action $a_t$ with best reward using $Q_t$ and store the results;\n",
    "\n",
    "2. Obtain the new state $s_{t+1}$ from the environment $p$;\n",
    "\n",
    "3. Store $(s_t,a_t,s_{t+1})$;\n",
    "\n",
    "4. Obtain $Q_{t+1}$ by minimizing  $\\mathcal{L}$ from a recovered batch from the previously stored results.\n",
    "\n",
    "***\n",
    "__Question 6__ Implement the class ```Memory``` that stores moves (in a replay buffer) via ```remember``` and provides a ```random_access``` to these. Specify a maximum memory size to avoid side effects. You can for example use a ```list()``` and set by default ```max_memory=100```."
   ]
  },
  {
   "cell_type": "code",
   "execution_count": 9,
   "metadata": {
    "colab": {},
    "colab_type": "code",
    "id": "jFeek2Gr-bYR"
   },
   "outputs": [],
   "source": [
    "class Memory(object):\n",
    "    def __init__(self, max_memory=100):\n",
    "        self.max_memory = max_memory\n",
    "        self.memory = list()\n",
    "\n",
    "    def remember(self, m):\n",
    "        (self.memory).append(m)\n",
    "        self.memory = self.memory[-1*self.max_memory:]\n",
    "\n",
    "    def random_access(self):\n",
    "        l = np.random.randint(0, len(self.memory))\n",
    "        return self.memory[l]"
   ]
  },
  {
   "cell_type": "markdown",
   "metadata": {
    "colab_type": "text",
    "id": "9w2tQt4d-bYl"
   },
   "source": [
    "***\n",
    "The pipeline we will use for training is given below:"
   ]
  },
  {
   "cell_type": "code",
   "execution_count": 10,
   "metadata": {
    "colab": {},
    "colab_type": "code",
    "id": "XmeDZaLo-bYu"
   },
   "outputs": [],
   "source": [
    "def train(agent,env,epoch,prefix=''):\n",
    "    # Number of won games\n",
    "    score = 0\n",
    "    loss = 0\n",
    "\n",
    "    for e in range(epoch):\n",
    "        # At each epoch, we restart to a fresh game and get the initial state\n",
    "        state = env.reset()\n",
    "        # This assumes that the games will terminate\n",
    "        game_over = False\n",
    "\n",
    "        win = 0\n",
    "        lose = 0\n",
    "\n",
    "        while not game_over:\n",
    "            # The agent performs an action\n",
    "            action = agent.act(state)\n",
    "\n",
    "            # Apply an action to the environment, get the next state, the reward\n",
    "            # and if the games end\n",
    "            prev_state = state\n",
    "            state, reward, game_over = env.act(action)\n",
    "\n",
    "            # Update the counters\n",
    "            if reward > 0:\n",
    "                win = win + reward\n",
    "            if reward < 0:\n",
    "                lose = lose -reward\n",
    "\n",
    "            # Apply the reinforcement strategy\n",
    "            loss = agent.reinforce(prev_state, state,  action, reward, game_over)\n",
    "\n",
    "        # Save as a mp4\n",
    "        if e % 10 == 0:\n",
    "            env.draw(prefix+str(e))\n",
    "\n",
    "        # Update stats\n",
    "        score += win-lose\n",
    "\n",
    "        print(\"Epoch {:03d}/{:03d} | Loss {:.4f} | Win/lose count {}/{} ({})\"\n",
    "              .format(e, epoch, loss, win, lose, win-lose))\n",
    "        agent.save(name_weights=prefix+'model.h5',name_model=prefix+'model.json')"
   ]
  },
  {
   "cell_type": "markdown",
   "metadata": {
    "colab_type": "text",
    "id": "bUq4r1Yb-bZH"
   },
   "source": [
    "***\n",
    "__Question 7__ Implement the DQN training algorithm using a cascade of fully connected layers. You can use different learning rate, batch size or memory size parameters. In particular, the loss might oscillate while the player will start to win the games. You have to find a good criterium."
   ]
  },
  {
   "cell_type": "code",
   "execution_count": 11,
   "metadata": {
    "colab": {},
    "colab_type": "code",
    "id": "rmzBj009FOA6"
   },
   "outputs": [],
   "source": [
    "env = Environment(grid_size=size, max_time=T, temperature=0.3)"
   ]
  },
  {
   "cell_type": "code",
   "execution_count": 12,
   "metadata": {
    "colab": {},
    "colab_type": "code",
    "id": "CPQ04gUk-bZK"
   },
   "outputs": [],
   "source": [
    "class DQN(Agent):\n",
    "    def __init__(self, grid_size,  epsilon = 0.1, memory_size=100, batch_size = 16,n_state=2):\n",
    "        super(DQN, self).__init__(epsilon = epsilon)\n",
    "\n",
    "        # Discount for Q learning\n",
    "        self.discount = 0.99\n",
    "        \n",
    "        self.grid_size = grid_size\n",
    "        \n",
    "        # number of state\n",
    "        self.n_state = n_state\n",
    "\n",
    "        # Memory\n",
    "        self.memory = Memory(memory_size)\n",
    "        \n",
    "        # Batch size when learning\n",
    "        self.batch_size = batch_size\n",
    "\n",
    "    def learned_act(self, s):\n",
    "        return np.argmax(self.model.predict(np.expand_dims(s, 0)))\n",
    "\n",
    "    def reinforce(self, s_, n_s_, a_, r_, game_over_):\n",
    "        # Two steps: first memorize the states, second learn from the pool\n",
    "        self.memory.remember([s_, n_s_, a_, r_, game_over_])\n",
    "        \n",
    "        input_states = np.zeros((self.batch_size, 5, 5, self.n_state))\n",
    "        target_q = np.zeros((self.batch_size, 4))\n",
    "        \n",
    "        for i in range(self.batch_size):\n",
    "            b_s_, b_n_s_, b_a_, b_r_, b_game_over_ = self.memory.random_access()\n",
    "            input_states[i] = b_s_\n",
    "            target_q[i] = self.model.predict(np.expand_dims(b_s_, 0))\n",
    "            \n",
    "            if b_game_over_:\n",
    "                target_q[i, b_a_] = b_r_\n",
    "            else:\n",
    "                target_q[i, b_a_] = b_r_ + self.discount * np.max(self.model.predict(np.expand_dims(b_n_s_, 0)))\n",
    "                \n",
    "        ######## FILL IN\n",
    "        # HINT: Clip the target to avoid exploiding gradients.. -- clipping is a bit tighter\n",
    "        target_q = np.clip(target_q, -3, 3)\n",
    "\n",
    "        l = self.model.train_on_batch(input_states, target_q)\n",
    "\n",
    "\n",
    "        return l\n",
    "\n",
    "    def save(self,name_weights='model.h5',name_model='model.json'):\n",
    "        self.model.save_weights(name_weights, overwrite=True)\n",
    "        with open(name_model, \"w\") as outfile:\n",
    "            json.dump(self.model.to_json(), outfile)\n",
    "            \n",
    "    def load(self,name_weights='model.h5',name_model='model.json'):\n",
    "        with open(name_model, \"r\") as jfile:\n",
    "            model = model_from_json(json.load(jfile))\n",
    "        model.load_weights(name_weights)\n",
    "        model.compile(\"sgd\", \"mse\")\n",
    "        self.model = model\n",
    "\n",
    "            \n",
    "class DQN_FC(DQN):\n",
    "    def __init__(self, *args, lr=0.1, **kwargs):\n",
    "        self.lr = lr\n",
    "        super(DQN_FC, self).__init__( *args,**kwargs)\n",
    "        \n",
    "        # NN Model\n",
    "        \n",
    "        model = Sequential()\n",
    "        #model.add(Dense(30, input_shape=(5, 5, self.n_state), activation='relu'))\n",
    "        #model.add(Dense(30, input_shape=(5, 5, self.n_state), activation='relu'))\n",
    "        model.add(Dense(50, input_shape=(5, 5, self.n_state), activation='relu'))\n",
    "        model.add(Flatten())\n",
    "        model.add(Dense(4))\n",
    "        \n",
    "        model.compile(sgd(lr=lr, decay=1e-4, momentum=0.0), \"mse\")\n",
    "        self.model = model\n",
    "        "
   ]
  },
  {
   "cell_type": "code",
   "execution_count": 13,
   "metadata": {
    "colab": {
     "base_uri": "https://localhost:8080/",
     "height": 1143
    },
    "colab_type": "code",
    "id": "WfddtvSC-bZe",
    "outputId": "bf2bf8a0-929f-4f97-fe84-a90e94cfe7ee"
   },
   "outputs": [
    {
     "name": "stdout",
     "output_type": "stream",
     "text": [
      "Epoch 000/050 | Loss 0.0165 | Win/lose count 3.0/0 (3.0)\n",
      "Epoch 001/050 | Loss 0.0258 | Win/lose count 3.5/3.0 (0.5)\n",
      "Epoch 002/050 | Loss 0.0195 | Win/lose count 1.0/1.0 (0.0)\n",
      "Epoch 003/050 | Loss 0.1031 | Win/lose count 6.0/6.0 (0.0)\n",
      "Epoch 004/050 | Loss 0.0084 | Win/lose count 1.5/6.0 (-4.5)\n",
      "Epoch 005/050 | Loss 0.0025 | Win/lose count 2.0/1.0 (1.0)\n",
      "Epoch 006/050 | Loss 0.0044 | Win/lose count 4.0/2.0 (2.0)\n",
      "Epoch 007/050 | Loss 0.0068 | Win/lose count 2.5/6.0 (-3.5)\n",
      "Epoch 008/050 | Loss 0.0033 | Win/lose count 4.0/4.0 (0.0)\n",
      "Epoch 009/050 | Loss 0.0050 | Win/lose count 3.5/5.0 (-1.5)\n",
      "Epoch 010/050 | Loss 0.0057 | Win/lose count 4.0/0 (4.0)\n",
      "Epoch 011/050 | Loss 0.0020 | Win/lose count 7.0/6.0 (1.0)\n",
      "Epoch 012/050 | Loss 0.0290 | Win/lose count 5.5/6.0 (-0.5)\n",
      "Epoch 013/050 | Loss 0.0026 | Win/lose count 6.5/2.0 (4.5)\n",
      "Epoch 014/050 | Loss 0.0044 | Win/lose count 3.0/1.0 (2.0)\n",
      "Epoch 015/050 | Loss 0.0049 | Win/lose count 2.0/0 (2.0)\n",
      "Epoch 016/050 | Loss 0.0284 | Win/lose count 4.0/2.0 (2.0)\n",
      "Epoch 017/050 | Loss 0.0014 | Win/lose count 7.5/4.0 (3.5)\n",
      "Epoch 018/050 | Loss 0.0016 | Win/lose count 4.5/5.0 (-0.5)\n",
      "Epoch 019/050 | Loss 0.0492 | Win/lose count 7.0/4.0 (3.0)\n",
      "Epoch 020/050 | Loss 0.0478 | Win/lose count 2.5/1.0 (1.5)\n",
      "Epoch 021/050 | Loss 0.0021 | Win/lose count 7.0/3.0 (4.0)\n",
      "Epoch 022/050 | Loss 0.0010 | Win/lose count 5.0/2.0 (3.0)\n",
      "Epoch 023/050 | Loss 0.0254 | Win/lose count 4.5/3.0 (1.5)\n",
      "Epoch 024/050 | Loss 0.0024 | Win/lose count 9.5/4.0 (5.5)\n",
      "Epoch 025/050 | Loss 0.0016 | Win/lose count 9.5/5.0 (4.5)\n",
      "Epoch 026/050 | Loss 0.0016 | Win/lose count 12.0/3.0 (9.0)\n",
      "Epoch 027/050 | Loss 0.0022 | Win/lose count 12.5/3.0 (9.5)\n",
      "Epoch 028/050 | Loss 0.0287 | Win/lose count 16.0/3.0 (13.0)\n",
      "Epoch 029/050 | Loss 0.0028 | Win/lose count 17.5/6.0 (11.5)\n",
      "Epoch 030/050 | Loss 0.0031 | Win/lose count 7.5/1.0 (6.5)\n",
      "Epoch 031/050 | Loss 0.0326 | Win/lose count 11.0/3.0 (8.0)\n",
      "Epoch 032/050 | Loss 0.0021 | Win/lose count 12.0/4.0 (8.0)\n",
      "Epoch 033/050 | Loss 0.0017 | Win/lose count 16.0/3.0 (13.0)\n",
      "Epoch 034/050 | Loss 0.0235 | Win/lose count 8.0/4.0 (4.0)\n",
      "Epoch 035/050 | Loss 0.0018 | Win/lose count 12.5/3.0 (9.5)\n",
      "Epoch 036/050 | Loss 0.0022 | Win/lose count 9.5/2.0 (7.5)\n",
      "Epoch 037/050 | Loss 0.0028 | Win/lose count 4.5/3.0 (1.5)\n",
      "Epoch 038/050 | Loss 0.0044 | Win/lose count 2.5/2.0 (0.5)\n",
      "Epoch 039/050 | Loss 0.0009 | Win/lose count 19.5/7.0 (12.5)\n",
      "Epoch 040/050 | Loss 0.0029 | Win/lose count 1.5/0 (1.5)\n",
      "Epoch 041/050 | Loss 0.0032 | Win/lose count 13.0/4.0 (9.0)\n",
      "Epoch 042/050 | Loss 0.0026 | Win/lose count 17.5/2.0 (15.5)\n",
      "Epoch 043/050 | Loss 0.0253 | Win/lose count 18.0/4.0 (14.0)\n",
      "Epoch 044/050 | Loss 0.0014 | Win/lose count 16.5/9.0 (7.5)\n",
      "Epoch 045/050 | Loss 0.0019 | Win/lose count 12.0/2.0 (10.0)\n",
      "Epoch 046/050 | Loss 0.0023 | Win/lose count 7.0/0 (7.0)\n",
      "Epoch 047/050 | Loss 0.0021 | Win/lose count 18.0/6.0 (12.0)\n",
      "Epoch 048/050 | Loss 0.0023 | Win/lose count 12.0/1.0 (11.0)\n",
      "Epoch 049/050 | Loss 0.0018 | Win/lose count 20.0/7.0 (13.0)\n"
     ]
    },
    {
     "data": {
      "text/html": [
       "<video alt=\"test\" controls>\n",
       "                <source src=\"data:video/mp4;base64,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\" type=\"video/mp4\" />\n",
       "             </video>"
      ],
      "text/plain": [
       "<IPython.core.display.HTML object>"
      ]
     },
     "execution_count": 13,
     "metadata": {},
     "output_type": "execute_result"
    }
   ],
   "source": [
    "agent = DQN_FC(size, lr= 0.1, epsilon = 0.1, memory_size=1000, batch_size = 64)\n",
    "train(agent, env, epochs_train, prefix='fc_train')\n",
    "HTML(display_videos('fc_train10.mp4'))"
   ]
  },
  {
   "cell_type": "code",
   "execution_count": 15,
   "metadata": {
    "colab": {
     "base_uri": "https://localhost:8080/",
     "height": 901
    },
    "colab_type": "code",
    "id": "KihDMK5zsdKG",
    "outputId": "10e03f2e-3731-496f-d036-70e17133f78f"
   },
   "outputs": [
    {
     "name": "stdout",
     "output_type": "stream",
     "text": [
      "Test of the FC\n",
      "Win/lose count 2.0/0. Average score (2.0)\n",
      "Win/lose count 2.0/0. Average score (2.0)\n",
      "Win/lose count 0/0. Average score (1.3333333333333333)\n",
      "Win/lose count 6.5/0. Average score (2.625)\n",
      "Win/lose count 3.0/0. Average score (2.7)\n",
      "Win/lose count 1.0/0. Average score (2.4166666666666665)\n",
      "Win/lose count 2.0/0. Average score (2.357142857142857)\n",
      "Win/lose count 0.5/0. Average score (2.125)\n",
      "Win/lose count 5.0/1.0. Average score (2.3333333333333335)\n",
      "Win/lose count 8.0/0. Average score (2.9)\n",
      "Win/lose count 0.5/0. Average score (2.6818181818181817)\n",
      "Win/lose count 2.0/0. Average score (2.625)\n",
      "Win/lose count 5.5/0. Average score (2.8461538461538463)\n",
      "Win/lose count 7.0/0. Average score (3.142857142857143)\n",
      "Win/lose count 2.5/0. Average score (3.1)\n",
      "Win/lose count 4.0/0. Average score (3.15625)\n",
      "Win/lose count 4.0/0. Average score (3.2058823529411766)\n",
      "Win/lose count 5.0/0. Average score (3.3055555555555554)\n",
      "Win/lose count 3.0/0. Average score (3.289473684210526)\n",
      "Win/lose count 6.0/0. Average score (3.425)\n",
      "Win/lose count 10.5/0. Average score (3.761904761904762)\n",
      "Win/lose count 3.5/0. Average score (3.75)\n",
      "Win/lose count 3.0/0. Average score (3.717391304347826)\n",
      "Win/lose count 7.0/0. Average score (3.8541666666666665)\n",
      "Win/lose count 7.5/0. Average score (4.0)\n",
      "Win/lose count 3.0/1.0. Average score (3.923076923076923)\n",
      "Win/lose count 7.0/0. Average score (4.037037037037037)\n",
      "Win/lose count 2.5/0. Average score (3.982142857142857)\n",
      "Win/lose count 8.0/0. Average score (4.120689655172414)\n",
      "Win/lose count 8.5/0. Average score (4.266666666666667)\n",
      "Win/lose count 13.0/0. Average score (4.548387096774194)\n",
      "Win/lose count 13.0/0. Average score (4.8125)\n",
      "Win/lose count 9.0/0. Average score (4.9393939393939394)\n",
      "Win/lose count 9.0/0. Average score (5.0588235294117645)\n",
      "Win/lose count 6.5/0. Average score (5.1)\n",
      "Win/lose count 4.0/0. Average score (5.069444444444445)\n",
      "Win/lose count 8.0/1.0. Average score (5.121621621621622)\n",
      "Win/lose count 1.0/0. Average score (5.0131578947368425)\n",
      "Win/lose count 6.5/0. Average score (5.051282051282051)\n",
      "Win/lose count 3.0/0. Average score (5.0)\n",
      "Win/lose count 1.5/0. Average score (4.914634146341464)\n",
      "Win/lose count 7.0/0. Average score (4.964285714285714)\n",
      "Win/lose count 12.0/0. Average score (5.127906976744186)\n",
      "Win/lose count 7.0/0. Average score (5.170454545454546)\n",
      "Win/lose count 2.5/0. Average score (5.111111111111111)\n",
      "Win/lose count 13.5/1.0. Average score (5.271739130434782)\n",
      "Win/lose count 5.5/0. Average score (5.276595744680851)\n",
      "Win/lose count 9.0/0. Average score (5.354166666666667)\n",
      "Win/lose count 3.0/0. Average score (5.3061224489795915)\n",
      "Win/lose count 6.0/0. Average score (5.32)\n",
      "Final score: 5.32\n"
     ]
    }
   ],
   "source": [
    "print('Test of the FC')\n",
    "agent_fc = DQN_FC(size, lr=0.1, epsilon = 0.1, memory_size=1000, batch_size = 64)\n",
    "agent_fc.load(name_weights='fc_trainmodel.h5',name_model='fc_trainmodel.json')\n",
    "test(agent_fc,env,epochs_test,prefix='fc_test')"
   ]
  },
  {
   "cell_type": "markdown",
   "metadata": {},
   "source": [
    "After several tests, we have obtain the following results: <br>\n",
    "* The structure composed of only one fully connected layer seems to work better than the structures with several fully connected layers (at least it works better than  the network with 2 or 3 layers)\n",
    "* The number of neurons in the layer seems to _____\n",
    "* An increase of the batch size increases the performance.\n",
    "* A too important memory size seems to decrease the performance of the DQN.\n",
    "* The use of strategies like batch-normalization are not adapted to our case.\n"
   ]
  },
  {
   "cell_type": "markdown",
   "metadata": {
    "colab_type": "text",
    "id": "Kv0xS7PH-bZy"
   },
   "source": [
    "***\n",
    "***\n",
    "__Question 8__ Implement the DQN training algorithm using a CNN (for example, 2 convolutional layers and one final fully connected layer)."
   ]
  },
  {
   "cell_type": "code",
   "execution_count": 31,
   "metadata": {
    "colab": {},
    "colab_type": "code",
    "id": "pABVxMvp-bZ6"
   },
   "outputs": [],
   "source": [
    "class DQN_CNN(DQN):\n",
    "    def __init__(self, lr=0.1, *args, **kwargs):\n",
    "        super(DQN_CNN, self).__init__(*args,**kwargs)\n",
    "        \n",
    "        ###### FILL IN\n",
    "        model = Sequential()\n",
    "        model.add(Conv2D(50, 3, input_shape=(5, 5, self.n_state), activation='relu'))\n",
    "        model.add(Conv2D(30, 3, activation='relu'))\n",
    "        model.add(Flatten())\n",
    "        model.add(Dense(4))\n",
    "\n",
    "        model.compile(sgd(lr=lr, decay=1e-4, momentum=0.0), \"mse\")\n",
    "        self.model = model"
   ]
  },
  {
   "cell_type": "code",
   "execution_count": 32,
   "metadata": {
    "colab": {
     "base_uri": "https://localhost:8080/",
     "height": 1040
    },
    "colab_type": "code",
    "id": "MalZlv35-baP",
    "outputId": "51c30583-9174-4287-a9c2-716e022fdba8"
   },
   "outputs": [
    {
     "name": "stdout",
     "output_type": "stream",
     "text": [
      "Epoch 000/050 | Loss 0.0096 | Win/lose count 4.0/6.0 (-2.0)\n",
      "Epoch 001/050 | Loss 0.0031 | Win/lose count 3.5/2.0 (1.5)\n",
      "Epoch 002/050 | Loss 0.0073 | Win/lose count 1.5/2.0 (-0.5)\n",
      "Epoch 003/050 | Loss 0.0114 | Win/lose count 1.0/5.0 (-4.0)\n",
      "Epoch 004/050 | Loss 0.0015 | Win/lose count 3.5/2.0 (1.5)\n",
      "Epoch 005/050 | Loss 0.0269 | Win/lose count 9.0/2.0 (7.0)\n",
      "Epoch 006/050 | Loss 0.0022 | Win/lose count 6.5/4.0 (2.5)\n",
      "Epoch 007/050 | Loss 0.0314 | Win/lose count 8.0/4.0 (4.0)\n",
      "Epoch 008/050 | Loss 0.0022 | Win/lose count 3.5/3.0 (0.5)\n",
      "Epoch 009/050 | Loss 0.0293 | Win/lose count 11.5/5.0 (6.5)\n",
      "Epoch 010/050 | Loss 0.0309 | Win/lose count 12.0/5.0 (7.0)\n",
      "Epoch 011/050 | Loss 0.0271 | Win/lose count 5.5/5.0 (0.5)\n",
      "Epoch 012/050 | Loss 0.0022 | Win/lose count 11.5/1.0 (10.5)\n",
      "Epoch 013/050 | Loss 0.0034 | Win/lose count 5.0/1.0 (4.0)\n",
      "Epoch 014/050 | Loss 0.0023 | Win/lose count 13.0/4.0 (9.0)\n",
      "Epoch 015/050 | Loss 0.0036 | Win/lose count 12.5/1.0 (11.5)\n",
      "Epoch 016/050 | Loss 0.0296 | Win/lose count 8.5/4.0 (4.5)\n",
      "Epoch 017/050 | Loss 0.0021 | Win/lose count 10.5/2.0 (8.5)\n",
      "Epoch 018/050 | Loss 0.0039 | Win/lose count 16.0/2.0 (14.0)\n",
      "Epoch 019/050 | Loss 0.0228 | Win/lose count 11.0/1.0 (10.0)\n",
      "Epoch 020/050 | Loss 0.0029 | Win/lose count 11.0/2.0 (9.0)\n",
      "Epoch 021/050 | Loss 0.0014 | Win/lose count 2.5/3.0 (-0.5)\n",
      "Epoch 022/050 | Loss 0.0021 | Win/lose count 14.5/2.0 (12.5)\n",
      "Epoch 023/050 | Loss 0.0286 | Win/lose count 17.0/2.0 (15.0)\n",
      "Epoch 024/050 | Loss 0.0269 | Win/lose count 16.0/3.0 (13.0)\n",
      "Epoch 025/050 | Loss 0.0260 | Win/lose count 10.0/1.0 (9.0)\n",
      "Epoch 026/050 | Loss 0.0033 | Win/lose count 10.0/3.0 (7.0)\n",
      "Epoch 027/050 | Loss 0.0016 | Win/lose count 12.5/4.0 (8.5)\n",
      "Epoch 028/050 | Loss 0.0507 | Win/lose count 21.5/3.0 (18.5)\n",
      "Epoch 029/050 | Loss 0.0044 | Win/lose count 13.5/2.0 (11.5)\n",
      "Epoch 030/050 | Loss 0.0253 | Win/lose count 16.5/7.0 (9.5)\n",
      "Epoch 031/050 | Loss 0.0052 | Win/lose count 9.5/2.0 (7.5)\n",
      "Epoch 032/050 | Loss 0.0030 | Win/lose count 12.5/2.0 (10.5)\n",
      "Epoch 033/050 | Loss 0.0036 | Win/lose count 20.0/3.0 (17.0)\n",
      "Epoch 034/050 | Loss 0.0038 | Win/lose count 9.5/2.0 (7.5)\n",
      "Epoch 035/050 | Loss 0.0225 | Win/lose count 18.5/3.0 (15.5)\n",
      "Epoch 036/050 | Loss 0.0034 | Win/lose count 14.0/4.0 (10.0)\n",
      "Epoch 037/050 | Loss 0.0035 | Win/lose count 12.5/1.0 (11.5)\n",
      "Epoch 038/050 | Loss 0.0026 | Win/lose count 14.5/2.0 (12.5)\n",
      "Epoch 039/050 | Loss 0.0038 | Win/lose count 13.5/2.0 (11.5)\n",
      "Epoch 040/050 | Loss 0.0285 | Win/lose count 17.0/4.0 (13.0)\n",
      "Epoch 041/050 | Loss 0.0026 | Win/lose count 21.5/1.0 (20.5)\n",
      "Epoch 042/050 | Loss 0.0048 | Win/lose count 11.0/3.0 (8.0)\n",
      "Epoch 043/050 | Loss 0.0027 | Win/lose count 7.5/1.0 (6.5)\n",
      "Epoch 044/050 | Loss 0.0513 | Win/lose count 10.5/1.0 (9.5)\n",
      "Epoch 045/050 | Loss 0.0024 | Win/lose count 19.0/3.0 (16.0)\n",
      "Epoch 046/050 | Loss 0.0018 | Win/lose count 13.5/2.0 (11.5)\n",
      "Epoch 047/050 | Loss 0.0029 | Win/lose count 3.0/4.0 (-1.0)\n",
      "Epoch 048/050 | Loss 0.0032 | Win/lose count 8.0/3.0 (5.0)\n",
      "Epoch 049/050 | Loss 0.0017 | Win/lose count 12.0/2.0 (10.0)\n"
     ]
    },
    {
     "data": {
      "text/html": [
       "<video alt=\"test\" controls>\n",
       "                <source src=\"data:video/mp4;base64,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\" type=\"video/mp4\" />\n",
       "             </video>"
      ],
      "text/plain": [
       "<IPython.core.display.HTML object>"
      ]
     },
     "execution_count": 32,
     "metadata": {},
     "output_type": "execute_result"
    }
   ],
   "source": [
    "env = Environment(grid_size=size, max_time=T, temperature=0.3)\n",
    "agent = DQN_CNN(0.1, size, epsilon = 0.1, memory_size=1000, batch_size = 64)\n",
    "train(agent,env,epochs_train,prefix='cnn_train')\n",
    "HTML(display_videos('cnn_train10.mp4'))"
   ]
  },
  {
   "cell_type": "markdown",
   "metadata": {
    "colab_type": "text",
    "id": "AxKQU9PY-baZ"
   },
   "source": [
    "***\n",
    "***\n",
    "__Question 9__ Test both algorithms and compare their performances. Which issue(s) do you observe? Observe also different behaviors by changing the temperature."
   ]
  },
  {
   "cell_type": "code",
   "execution_count": 42,
   "metadata": {
    "colab": {
     "base_uri": "https://localhost:8080/",
     "height": 434
    },
    "colab_type": "code",
    "id": "d7HBoW6S-bab",
    "outputId": "5e424928-d6a2-4978-d321-1c3f0d803a42"
   },
   "outputs": [
    {
     "name": "stdout",
     "output_type": "stream",
     "text": [
      "Test of the CNN\n",
      "Win/lose count 10.0/1.0. Average score (9.0)\n",
      "Win/lose count 17.0/0. Average score (13.0)\n",
      "Win/lose count 24.5/1.0. Average score (16.5)\n",
      "Win/lose count 9.5/0. Average score (14.75)\n",
      "Win/lose count 31.0/0. Average score (18.0)\n",
      "Win/lose count 25.0/1.0. Average score (19.0)\n",
      "Win/lose count 34.5/0. Average score (21.214285714285715)\n",
      "Win/lose count 25.0/0. Average score (21.6875)\n",
      "Win/lose count 48.5/0. Average score (24.666666666666668)\n",
      "Win/lose count 22.0/0. Average score (24.4)\n",
      "Win/lose count 26.0/0. Average score (24.545454545454547)\n",
      "Win/lose count 20.5/0. Average score (24.208333333333332)\n",
      "Win/lose count 47.5/3.0. Average score (25.76923076923077)\n",
      "Win/lose count 19.0/0. Average score (25.285714285714285)\n",
      "Win/lose count 6.0/0. Average score (24.0)\n",
      "Win/lose count 23.0/0. Average score (23.9375)\n",
      "Win/lose count 35.0/2.0. Average score (24.470588235294116)\n",
      "Win/lose count 23.5/0. Average score (24.416666666666668)\n",
      "Win/lose count 3.0/0. Average score (23.289473684210527)\n",
      "Win/lose count 29.5/0. Average score (23.6)\n",
      "Win/lose count 34.0/0. Average score (24.095238095238095)\n",
      "Win/lose count 48.5/0. Average score (25.204545454545453)\n",
      "Win/lose count 31.0/1.0. Average score (25.41304347826087)\n",
      "Win/lose count 30.0/0. Average score (25.604166666666668)\n",
      "Win/lose count 31.0/1.0. Average score (25.78)\n",
      "Win/lose count 18.5/0. Average score (25.5)\n",
      "Win/lose count 18.0/1.0. Average score (25.185185185185187)\n",
      "Win/lose count 26.5/0. Average score (25.232142857142858)\n",
      "Win/lose count 28.0/0. Average score (25.32758620689655)\n",
      "Win/lose count 25.5/1.0. Average score (25.3)\n",
      "Win/lose count 54.0/0. Average score (26.225806451612904)\n",
      "Win/lose count 30.5/0. Average score (26.359375)\n",
      "Win/lose count 22.0/0. Average score (26.227272727272727)\n",
      "Win/lose count 36.0/1.0. Average score (26.485294117647058)\n",
      "Win/lose count 30.5/0. Average score (26.6)\n",
      "Win/lose count 35.0/1.0. Average score (26.805555555555557)\n",
      "Win/lose count 35.0/1.0. Average score (27.0)\n",
      "Win/lose count 28.0/1.0. Average score (27.0)\n",
      "Win/lose count 24.0/0. Average score (26.923076923076923)\n",
      "Win/lose count 31.0/1.0. Average score (27.0)\n",
      "Win/lose count 18.5/0. Average score (26.79268292682927)\n",
      "Win/lose count 53.5/1.0. Average score (27.404761904761905)\n",
      "Win/lose count 15.5/1.0. Average score (27.1046511627907)\n",
      "Win/lose count 44.0/0. Average score (27.488636363636363)\n",
      "Win/lose count 22.5/0. Average score (27.377777777777776)\n",
      "Win/lose count 5.0/0. Average score (26.891304347826086)\n",
      "Win/lose count 24.0/0. Average score (26.829787234042552)\n",
      "Win/lose count 23.5/0. Average score (26.760416666666668)\n",
      "Win/lose count 41.5/0. Average score (27.06122448979592)\n",
      "Win/lose count 33.5/0. Average score (27.19)\n",
      "Final score: 27.19\n",
      "Test of the FC\n",
      "Win/lose count 48.0/0. Average score (48.0)\n",
      "Win/lose count 17.5/0. Average score (32.75)\n",
      "Win/lose count 12.0/0. Average score (25.833333333333332)\n",
      "Win/lose count 36.0/0. Average score (28.375)\n",
      "Win/lose count 34.5/0. Average score (29.6)\n",
      "Win/lose count 59.0/1.0. Average score (34.333333333333336)\n",
      "Win/lose count 32.5/0. Average score (34.07142857142857)\n",
      "Win/lose count 26.0/0. Average score (33.0625)\n",
      "Win/lose count 49.0/0. Average score (34.833333333333336)\n",
      "Win/lose count 23.0/0. Average score (33.65)\n",
      "Win/lose count 34.5/0. Average score (33.72727272727273)\n",
      "Win/lose count 39.0/0. Average score (34.166666666666664)\n",
      "Win/lose count 36.0/0. Average score (34.30769230769231)\n",
      "Win/lose count 41.0/1.0. Average score (34.714285714285715)\n",
      "Win/lose count 41.5/0. Average score (35.166666666666664)\n",
      "Win/lose count 34.5/0. Average score (35.125)\n",
      "Win/lose count 17.5/0. Average score (34.088235294117645)\n",
      "Win/lose count 51.5/0. Average score (35.05555555555556)\n",
      "Win/lose count 42.5/0. Average score (35.44736842105263)\n",
      "Win/lose count 5.5/0. Average score (33.95)\n",
      "Win/lose count 28.0/1.0. Average score (33.61904761904762)\n",
      "Win/lose count 28.5/0. Average score (33.38636363636363)\n",
      "Win/lose count 41.0/0. Average score (33.71739130434783)\n",
      "Win/lose count 23.5/0. Average score (33.291666666666664)\n",
      "Win/lose count 10.0/0. Average score (32.36)\n",
      "Win/lose count 3.0/0. Average score (31.23076923076923)\n",
      "Win/lose count 34.5/0. Average score (31.35185185185185)\n",
      "Win/lose count 58.0/0. Average score (32.30357142857143)\n",
      "Win/lose count 10.0/0. Average score (31.53448275862069)\n",
      "Win/lose count 17.0/1.0. Average score (31.016666666666666)\n",
      "Win/lose count 42.5/0. Average score (31.387096774193548)\n",
      "Win/lose count 51.0/0. Average score (32.0)\n",
      "Win/lose count 52.5/0. Average score (32.621212121212125)\n",
      "Win/lose count 54.0/1.0. Average score (33.220588235294116)\n",
      "Win/lose count 22.0/0. Average score (32.9)\n",
      "Win/lose count 25.0/0. Average score (32.68055555555556)\n",
      "Win/lose count 32.0/0. Average score (32.66216216216216)\n",
      "Win/lose count 58.5/1.0. Average score (33.31578947368421)\n",
      "Win/lose count 59.5/0. Average score (33.98717948717949)\n",
      "Win/lose count 25.5/0. Average score (33.775)\n",
      "Win/lose count 25.5/0. Average score (33.573170731707314)\n",
      "Win/lose count 62.5/0. Average score (34.26190476190476)\n",
      "Win/lose count 39.0/0. Average score (34.372093023255815)\n",
      "Win/lose count 11.5/0. Average score (33.85227272727273)\n",
      "Win/lose count 45.0/0. Average score (34.1)\n",
      "Win/lose count 22.5/0. Average score (33.84782608695652)\n",
      "Win/lose count 42.5/0. Average score (34.03191489361702)\n",
      "Win/lose count 11.5/1.0. Average score (33.541666666666664)\n",
      "Win/lose count 54.5/1.0. Average score (33.94897959183673)\n",
      "Win/lose count 6.5/0. Average score (33.4)\n",
      "Final score: 33.4\n"
     ]
    }
   ],
   "source": [
    "env = Environment(grid_size=size, max_time=T,temperature=0.8)\n",
    "agent_cnn = DQN_CNN(0.1, size, epsilon = 0.1, memory_size=1000, batch_size = 64)\n",
    "agent_cnn.load(name_weights='cnn_trainmodel.h5',name_model='cnn_trainmodel.json')\n",
    "\n",
    "agent_fc = DQN_FC(size, lr=0.1, epsilon = 0.1, memory_size=1000, batch_size = 64)\n",
    "agent_fc.load(name_weights='fc_trainmodel.h5',name_model='fc_trainmodel.json')\n",
    "print('Test of the CNN')\n",
    "test(agent_cnn,env,epochs_test,prefix='cnn_test')\n",
    "print('Test of the FC')\n",
    "test(agent_fc,env,epochs_test,prefix='fc_test')"
   ]
  },
  {
   "cell_type": "code",
   "execution_count": 41,
   "metadata": {
    "colab": {
     "base_uri": "https://localhost:8080/",
     "height": 289
    },
    "colab_type": "code",
    "id": "5QuyvGK2-bak",
    "outputId": "2198708d-1533-429e-c1f2-fd2b11405649"
   },
   "outputs": [
    {
     "data": {
      "text/html": [
       "<video alt=\"test\" controls>\n",
       "                <source src=\"data:video/mp4;base64,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\" type=\"video/mp4\" />\n",
       "             </video>"
      ],
      "text/plain": [
       "<IPython.core.display.HTML object>"
      ]
     },
     "execution_count": 41,
     "metadata": {},
     "output_type": "execute_result"
    }
   ],
   "source": [
    "HTML(display_videos('cnn_test10.mp4'))"
   ]
  },
  {
   "cell_type": "markdown",
   "metadata": {},
   "source": [
    "Training made with a temperature of 0.3 <br>\n",
    "\n",
    "| Temperature      |     Score CNN   |   Score FC |\n",
    "| ------------- |: -------------: | ---------: |\n",
    "| 0.1     |        1.96      |     1.66|\n",
    "| 0.2   |        3.8      |     3.56|\n",
    "| 0.3      |        6.13       |      5.06 |\n",
    "| 0.4   |           9.58         | 8.78\n",
    "| 0.5   |        10.85        |      9.44 |\n",
    "| 0.6      |        14.86       |      16.1 |\n",
    "| 0.7      |        21.04       |      21.21 |\n",
    "| 0.8      |        27.19       |      33.4 |\n",
    "| 0.9      |        36.75       |      44.25 |\n"
   ]
  },
  {
   "cell_type": "code",
   "execution_count": 19,
   "metadata": {
    "colab": {},
    "colab_type": "code",
    "id": "BEkv5ms6-bap"
   },
   "outputs": [
    {
     "data": {
      "text/html": [
       "<video alt=\"test\" controls>\n",
       "                <source src=\"data:video/mp4;base64,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\" type=\"video/mp4\" />\n",
       "             </video>"
      ],
      "text/plain": [
       "<IPython.core.display.HTML object>"
      ]
     },
     "execution_count": 19,
     "metadata": {},
     "output_type": "execute_result"
    }
   ],
   "source": [
    "HTML(display_videos('fc_test10.mp4'))"
   ]
  },
  {
   "cell_type": "markdown",
   "metadata": {
    "colab_type": "text",
    "id": "yAVabVFk-baw"
   },
   "source": [
    "We can remark the following problems:\n",
    "* First, the fact that the $\\epsilon$ is a constant makes that, at the beginning, it will have a tendancy to choose the \"learnt\" strategy even though it hasn't learnt anything and that, at the end, it will tend to explore whereas it  is no more a necessity\n",
    "* Moreover, we can remark on the videos that the agent may stay on a zone that it has already explored and so where there is no more reward - for example, it can altern between two neighbors states already explored. We can note that it happens especially when there is no positive rewards around the agent.\n",
    "* Finally, we can remark that the bigger the temperature is, the bigger is the obtained score for both algorithms. But, if for low temperatures the CNN network has better performance, for high temperatures it is the fully-connected network which works better - for high temperatures, the CNN is more likely to have the behaviour described above."
   ]
  },
  {
   "cell_type": "markdown",
   "metadata": {
    "colab_type": "text",
    "id": "kMJ08JSs-baz"
   },
   "source": [
    "***\n",
    "\n",
    "The algorithm tends to not explore the map which can be an issue. We propose two ideas in order to encourage exploration:\n",
    "1. Incorporating a decreasing $\\epsilon$-greedy exploration. You can use the method ```set_epsilon```\n",
    "2. Append via the environment a new state that describes if a cell has been visited or not\n",
    "\n",
    "***\n",
    "__Question 10__ Design a new ```train_explore``` function and environment class ```EnvironmentExploring``` to tackle the issue of exploration.\n",
    "\n"
   ]
  },
  {
   "cell_type": "code",
   "execution_count": 43,
   "metadata": {
    "colab": {},
    "colab_type": "code",
    "id": "AzE0VRbT-ba0"
   },
   "outputs": [],
   "source": [
    "def train_explore(agent, env, epoch, epsilon_decay = 0.95, prefix=''):\n",
    "    # Number of won games\n",
    "    score = 0\n",
    "    loss = 0\n",
    "\n",
    "    for e in range(epoch):\n",
    "        # At each epoch, we restart to a fresh game and get the initial state\n",
    "        state = env.reset()\n",
    "        # This assumes that the games will terminate\n",
    "        game_over = False\n",
    "\n",
    "        win = 0\n",
    "        lose = 0\n",
    "        \n",
    "        agent.set_epsilon(agent.epsilon * epsilon_decay)\n",
    "        while not game_over:\n",
    "            # The agent performs an action\n",
    "            action = agent.act(state)\n",
    "\n",
    "            # Apply an action to the environment, get the next state, the reward\n",
    "            # and if the games end\n",
    "            prev_state = state\n",
    "            state, reward, game_over = env.act(action, train = True)\n",
    "\n",
    "            # Update the counters\n",
    "            if reward > 0:\n",
    "                win = win + reward\n",
    "            if reward < 0:\n",
    "                lose = lose -reward\n",
    "\n",
    "            # Apply the reinforcement strategy\n",
    "            loss = agent.reinforce(prev_state, state,  action, reward, game_over)\n",
    "\n",
    "        # Save as a mp4\n",
    "        if e % 10 == 0:\n",
    "            env.draw(prefix+str(e))\n",
    "\n",
    "        # Update stats\n",
    "        score += win-lose\n",
    "\n",
    "        print(\"Epoch {:03d}/{:03d} | Loss {:.4f} | Win/lose count {}/{} ({})\"\n",
    "              .format(e, epoch, loss, win, lose, win-lose))\n",
    "        agent.save(name_weights=prefix+'model.h5',name_model=prefix+'model.json')\n",
    "\n",
    "        \n",
    "class EnvironmentExploring(object):\n",
    "    def __init__(self, grid_size=10, max_time=500, temperature=0.1):\n",
    "        grid_size = grid_size+4\n",
    "        self.grid_size = grid_size\n",
    "        self.max_time = max_time\n",
    "        self.temperature = temperature\n",
    "\n",
    "        #board on which one plays\n",
    "        self.board = np.zeros((grid_size,grid_size))\n",
    "        self.position = np.zeros((grid_size,grid_size))\n",
    "        self.malus_position = np.zeros((grid_size,grid_size))\n",
    "\n",
    "        # coordinate of the cat\n",
    "        self.x = 0\n",
    "        self.y = 1\n",
    "\n",
    "        # self time\n",
    "        self.t = 0\n",
    "\n",
    "        self.scale=16\n",
    "\n",
    "        self.to_draw = np.zeros((max_time+2, grid_size*self.scale, grid_size*self.scale, 3))\n",
    "\n",
    "\n",
    "    def draw(self,e):\n",
    "        skvideo.io.vwrite(str(e) + '.mp4', self.to_draw)\n",
    "\n",
    "    def get_frame(self,t):\n",
    "        b = np.zeros((self.grid_size,self.grid_size,3))+128\n",
    "        b[self.board>0,0] = 256\n",
    "        b[self.board < 0, 2] = 256\n",
    "        b[self.x,self.y,:]=256\n",
    "        b[-2:,:,:]=0\n",
    "        b[:,-2:,:]=0\n",
    "        b[:2,:,:]=0\n",
    "        b[:,:2,:]=0\n",
    "        \n",
    "        b =  cv2.resize(b, None, fx=self.scale, fy=self.scale, interpolation=cv2.INTER_NEAREST)\n",
    "\n",
    "        self.to_draw[t,:,:,:]=b\n",
    "\n",
    "\n",
    "    def act(self, action, train = False):\n",
    "        \"\"\"This function returns the new state, reward and decides if the\n",
    "        game ends.\"\"\"\n",
    "\n",
    "        self.get_frame(int(self.t))\n",
    "\n",
    "        self.position = np.zeros((self.grid_size, self.grid_size))\n",
    "\n",
    "        self.position[0:2,:]= -1\n",
    "        self.position[:,0:2] = -1\n",
    "        self.position[-2:, :] = -1\n",
    "        self.position[:, -2:] = -1 #typo\n",
    "\n",
    "        self.position[self.x, self.y] = 1\n",
    "        if action == 0:\n",
    "            if self.x == self.grid_size-3:\n",
    "                self.x = self.x-1\n",
    "            else:\n",
    "                self.x = self.x + 1\n",
    "        elif action == 1:\n",
    "            if self.x == 2:\n",
    "                self.x = self.x+1\n",
    "            else:\n",
    "                self.x = self.x-1\n",
    "        elif action == 2:\n",
    "            if self.y == self.grid_size - 3:\n",
    "                self.y = self.y - 1\n",
    "            else:\n",
    "                self.y = self.y + 1\n",
    "        elif action == 3:\n",
    "            if self.y == 2:\n",
    "                self.y = self.y + 1\n",
    "            else:\n",
    "                self.y = self.y - 1\n",
    "        else:\n",
    "            RuntimeError('Error: action not recognized')\n",
    "\n",
    "        self.t = self.t + 1\n",
    "        reward = 0\n",
    "        if train:\n",
    "            reward = -self.malus_position[self.x, self.y]\n",
    "        self.malus_position[self.x, self.y] = 0.1\n",
    "        reward += self.board[self.x, self.y]\n",
    "        self.board[self.x, self.y] = 0\n",
    "        game_over = self.t > self.max_time\n",
    "        # 3 \"feature\" states instead of 2\n",
    "        state = np.concatenate((self.malus_position.reshape(self.grid_size, self.grid_size,1),\n",
    "                                self.board.reshape(self.grid_size, self.grid_size,1),\n",
    "                                self.position.reshape(self.grid_size, self.grid_size,1)),axis=2)\n",
    "        state = state[self.x-2:self.x+3,self.y-2:self.y+3,:]\n",
    "\n",
    "        return state, reward, game_over\n",
    "\n",
    "    def reset(self):\n",
    "        \"\"\"This function resets the game and returns the initial state\"\"\"\n",
    "\n",
    "        self.x = np.random.randint(3, self.grid_size-3, size=1)[0]\n",
    "        self.y = np.random.randint(3, self.grid_size-3, size=1)[0]\n",
    "\n",
    "\n",
    "        bonus = 0.5*np.random.binomial(1,self.temperature,size=self.grid_size**2)\n",
    "        bonus = bonus.reshape(self.grid_size,self.grid_size)\n",
    "\n",
    "        malus = -1.0*np.random.binomial(1,self.temperature,size=self.grid_size**2)\n",
    "        malus = malus.reshape(self.grid_size, self.grid_size)\n",
    "\n",
    "        self.to_draw = np.zeros((self.max_time+2, self.grid_size*self.scale, self.grid_size*self.scale, 3))\n",
    "\n",
    "\n",
    "        malus[bonus>0]=0\n",
    "\n",
    "        self.board = bonus + malus\n",
    "\n",
    "        self.position = np.zeros((self.grid_size, self.grid_size))\n",
    "        self.malus_position = np.zeros((self.grid_size, self.grid_size))\n",
    "\n",
    "        self.position[0:2,:]= -1\n",
    "        self.position[:,0:2] = -1\n",
    "        self.position[-2:, :] = -1\n",
    "        self.position[:, -2:] = -1 #typo\n",
    "        self.board[self.x,self.y] = 0\n",
    "        self.t = 0\n",
    "\n",
    "        # 3 \"feature\" states instead of 2\n",
    "        state = np.concatenate((self.malus_position.reshape(self.grid_size, self.grid_size,1),\n",
    "                                self.board.reshape(self.grid_size, self.grid_size,1),\n",
    "                                self.position.reshape(self.grid_size, self.grid_size,1)),axis=2)\n",
    "\n",
    "        state = state[self.x - 2:self.x + 3, self.y - 2:self.y + 3, :]\n",
    "        return state\n",
    "    \n",
    "## use those samples of code:\n",
    "#In train explore:\n",
    "#state, reward, game_over = env.act(action, train=True)\n",
    "\n",
    "## In Environment exploring:\n",
    "# You will have to change n_state to 3 because you will use one more layer!\n",
    "#reward = 0\n",
    "#if train:\n",
    "#    reward = -self.malus_position[self.x, self.y]\n",
    "#self.malus_position[self.x, self.y] = 0.1\n",
    "\n",
    "#reward = reward + self.board[self.x, self.y]\n",
    "# 3 \"feature\" states instead of 2\n",
    "#state = np.concatenate((self.malus_position.reshape(self.grid_size, self.grid_size,1),\n",
    "#                                self.board.reshape(self.grid_size, self.grid_size,1),\n",
    "#                        self.position.reshape(self.grid_size, self.grid_size,1)),axis=2)"
   ]
  },
  {
   "cell_type": "code",
   "execution_count": 44,
   "metadata": {
    "colab": {},
    "colab_type": "code",
    "id": "YInme0CJ-ba8"
   },
   "outputs": [
    {
     "name": "stdout",
     "output_type": "stream",
     "text": [
      "Epoch 000/050 | Loss 0.0071 | Win/lose count 5.0/29.00000000000014 (-24.00000000000014)\n",
      "Epoch 001/050 | Loss 0.0123 | Win/lose count 14.5/20.10000000000004 (-5.6000000000000405)\n",
      "Epoch 002/050 | Loss 0.0090 | Win/lose count 10.0/19.200000000000014 (-9.200000000000014)\n",
      "Epoch 003/050 | Loss 0.0180 | Win/lose count 5.0/21.600000000000012 (-16.600000000000012)\n",
      "Epoch 004/050 | Loss 0.0097 | Win/lose count 15.5/19.400000000000023 (-3.9000000000000234)\n",
      "Epoch 005/050 | Loss 0.0066 | Win/lose count 11.0/21.700000000000014 (-10.700000000000014)\n",
      "Epoch 006/050 | Loss 0.0058 | Win/lose count 13.0/19.90000000000003 (-6.9000000000000306)\n",
      "Epoch 007/050 | Loss 0.0095 | Win/lose count 18.0/16.399999999999974 (1.6000000000000263)\n",
      "Epoch 008/050 | Loss 0.0408 | Win/lose count 16.0/20.50000000000001 (-4.500000000000011)\n",
      "Epoch 009/050 | Loss 0.0068 | Win/lose count 5.0/21.100000000000026 (-16.100000000000026)\n",
      "Epoch 010/050 | Loss 0.0305 | Win/lose count 19.5/18.299999999999983 (1.200000000000017)\n",
      "Epoch 011/050 | Loss 0.0078 | Win/lose count 20.5/19.90000000000003 (0.5999999999999694)\n",
      "Epoch 012/050 | Loss 0.0288 | Win/lose count 23.0/17.599999999999994 (5.400000000000006)\n",
      "Epoch 013/050 | Loss 0.0077 | Win/lose count 16.5/22.00000000000005 (-5.50000000000005)\n",
      "Epoch 014/050 | Loss 0.0077 | Win/lose count 16.0/19.600000000000023 (-3.6000000000000227)\n",
      "Epoch 015/050 | Loss 0.0275 | Win/lose count 17.5/17.699999999999985 (-0.19999999999998508)\n",
      "Epoch 016/050 | Loss 0.0077 | Win/lose count 17.0/13.399999999999968 (3.6000000000000316)\n",
      "Epoch 017/050 | Loss 0.0083 | Win/lose count 13.0/19.299999999999983 (-6.299999999999983)\n",
      "Epoch 018/050 | Loss 0.0229 | Win/lose count 20.0/15.899999999999967 (4.100000000000033)\n",
      "Epoch 019/050 | Loss 0.0200 | Win/lose count 17.5/16.09999999999997 (1.4000000000000306)\n",
      "Epoch 020/050 | Loss 0.0061 | Win/lose count 9.0/22.300000000000068 (-13.300000000000068)\n",
      "Epoch 021/050 | Loss 0.0077 | Win/lose count 5.0/17.39999999999998 (-12.39999999999998)\n",
      "Epoch 022/050 | Loss 0.0309 | Win/lose count 22.5/14.999999999999977 (7.500000000000023)\n",
      "Epoch 023/050 | Loss 0.0169 | Win/lose count 18.5/13.599999999999975 (4.900000000000025)\n",
      "Epoch 024/050 | Loss 0.0066 | Win/lose count 11.5/21.400000000000023 (-9.900000000000023)\n",
      "Epoch 025/050 | Loss 0.0078 | Win/lose count 16.5/18.49999999999999 (-1.9999999999999893)\n",
      "Epoch 026/050 | Loss 0.0221 | Win/lose count 20.5/14.999999999999975 (5.500000000000025)\n",
      "Epoch 027/050 | Loss 0.0186 | Win/lose count 24.5/16.799999999999976 (7.700000000000024)\n",
      "Epoch 028/050 | Loss 0.0114 | Win/lose count 15.0/14.599999999999964 (0.4000000000000359)\n",
      "Epoch 029/050 | Loss 0.0253 | Win/lose count 19.5/15.099999999999971 (4.400000000000029)\n",
      "Epoch 030/050 | Loss 0.0194 | Win/lose count 15.0/17.59999999999999 (-2.5999999999999908)\n",
      "Epoch 031/050 | Loss 0.0145 | Win/lose count 21.5/16.99999999999997 (4.500000000000028)\n",
      "Epoch 032/050 | Loss 0.0110 | Win/lose count 25.0/14.199999999999974 (10.800000000000026)\n",
      "Epoch 033/050 | Loss 0.0137 | Win/lose count 24.0/15.399999999999972 (8.600000000000028)\n",
      "Epoch 034/050 | Loss 0.0071 | Win/lose count 21.5/13.999999999999968 (7.500000000000032)\n",
      "Epoch 035/050 | Loss 0.0088 | Win/lose count 22.0/13.099999999999975 (8.900000000000025)\n",
      "Epoch 036/050 | Loss 0.0144 | Win/lose count 18.5/14.599999999999975 (3.9000000000000252)\n",
      "Epoch 037/050 | Loss 0.0095 | Win/lose count 14.5/18.199999999999996 (-3.6999999999999957)\n",
      "Epoch 038/050 | Loss 0.0052 | Win/lose count 19.0/11.399999999999975 (7.6000000000000245)\n",
      "Epoch 039/050 | Loss 0.0083 | Win/lose count 15.0/19.90000000000001 (-4.900000000000009)\n",
      "Epoch 040/050 | Loss 0.0136 | Win/lose count 21.0/12.099999999999977 (8.900000000000023)\n",
      "Epoch 041/050 | Loss 0.0108 | Win/lose count 18.0/11.89999999999998 (6.100000000000019)\n",
      "Epoch 042/050 | Loss 0.0145 | Win/lose count 26.0/11.49999999999998 (14.50000000000002)\n",
      "Epoch 043/050 | Loss 0.0143 | Win/lose count 16.5/15.899999999999963 (0.600000000000037)\n",
      "Epoch 044/050 | Loss 0.0218 | Win/lose count 18.0/12.99999999999998 (5.0000000000000195)\n",
      "Epoch 045/050 | Loss 0.0099 | Win/lose count 22.5/13.299999999999978 (9.200000000000022)\n",
      "Epoch 046/050 | Loss 0.0219 | Win/lose count 22.5/16.299999999999976 (6.200000000000024)\n",
      "Epoch 047/050 | Loss 0.0091 | Win/lose count 28.0/10.399999999999983 (17.600000000000016)\n",
      "Epoch 048/050 | Loss 0.0100 | Win/lose count 21.5/13.199999999999973 (8.300000000000027)\n",
      "Epoch 049/050 | Loss 0.0119 | Win/lose count 22.5/10.499999999999979 (12.000000000000021)\n"
     ]
    },
    {
     "data": {
      "text/html": [
       "<video alt=\"test\" controls>\n",
       "                <source src=\"data:video/mp4;base64,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\" type=\"video/mp4\" />\n",
       "             </video>"
      ],
      "text/plain": [
       "<IPython.core.display.HTML object>"
      ]
     },
     "execution_count": 44,
     "metadata": {},
     "output_type": "execute_result"
    }
   ],
   "source": [
    "# Training\n",
    "env = EnvironmentExploring(grid_size=size, max_time=T, temperature=0.3)\n",
    "agent = DQN_CNN(0.1, size, epsilon = 0.5, memory_size=1000, batch_size = 64,n_state=3)\n",
    "train_explore(agent, env, epochs_train, prefix='cnn_train_explore')\n",
    "HTML(display_videos('cnn_train_explore10.mp4'))"
   ]
  },
  {
   "cell_type": "code",
   "execution_count": 46,
   "metadata": {
    "colab": {},
    "colab_type": "code",
    "id": "TE26T-9v-bbB"
   },
   "outputs": [
    {
     "name": "stdout",
     "output_type": "stream",
     "text": [
      "Win/lose count 23.5/0. Average score (23.5)\n",
      "Win/lose count 23.0/0. Average score (23.25)\n",
      "Win/lose count 23.0/1.0. Average score (22.833333333333332)\n",
      "Win/lose count 20.0/1.0. Average score (21.875)\n",
      "Win/lose count 16.5/1.0. Average score (20.6)\n",
      "Win/lose count 13.5/1.0. Average score (19.25)\n",
      "Win/lose count 6.0/2.0. Average score (17.071428571428573)\n",
      "Win/lose count 21.5/1.0. Average score (17.5)\n",
      "Win/lose count 17.0/2.0. Average score (17.22222222222222)\n",
      "Win/lose count 29.0/1.0. Average score (18.3)\n",
      "Win/lose count 29.5/3.0. Average score (19.045454545454547)\n",
      "Win/lose count 19.5/1.0. Average score (19.0)\n",
      "Win/lose count 24.5/1.0. Average score (19.346153846153847)\n",
      "Win/lose count 4.5/0. Average score (18.285714285714285)\n",
      "Win/lose count 20.0/3.0. Average score (18.2)\n",
      "Win/lose count 22.0/0. Average score (18.4375)\n",
      "Win/lose count 19.0/1.0. Average score (18.41176470588235)\n",
      "Win/lose count 13.0/3.0. Average score (17.944444444444443)\n",
      "Win/lose count 20.0/1.0. Average score (18.0)\n",
      "Win/lose count 13.5/0. Average score (17.775)\n",
      "Win/lose count 16.0/0. Average score (17.69047619047619)\n",
      "Win/lose count 10.5/0. Average score (17.363636363636363)\n",
      "Win/lose count 19.0/2.0. Average score (17.347826086956523)\n",
      "Win/lose count 14.5/0. Average score (17.229166666666668)\n",
      "Win/lose count 15.0/3.0. Average score (17.02)\n",
      "Win/lose count 17.0/1.0. Average score (16.98076923076923)\n",
      "Win/lose count 22.5/2.0. Average score (17.11111111111111)\n",
      "Win/lose count 11.5/0. Average score (16.910714285714285)\n",
      "Win/lose count 5.0/0. Average score (16.5)\n",
      "Win/lose count 19.5/1.0. Average score (16.566666666666666)\n",
      "Win/lose count 14.0/0. Average score (16.483870967741936)\n",
      "Win/lose count 19.5/1.0. Average score (16.546875)\n",
      "Win/lose count 19.0/2.0. Average score (16.560606060606062)\n",
      "Win/lose count 21.0/1.0. Average score (16.66176470588235)\n",
      "Win/lose count 13.5/2.0. Average score (16.514285714285716)\n",
      "Win/lose count 6.5/1.0. Average score (16.208333333333332)\n",
      "Win/lose count 11.0/1.0. Average score (16.04054054054054)\n",
      "Win/lose count 11.0/0. Average score (15.907894736842104)\n",
      "Win/lose count 22.5/0. Average score (16.076923076923077)\n",
      "Win/lose count 16.5/1.0. Average score (16.0625)\n",
      "Win/lose count 27.0/0. Average score (16.329268292682926)\n",
      "Win/lose count 21.5/3.0. Average score (16.38095238095238)\n",
      "Win/lose count 22.0/3.0. Average score (16.441860465116278)\n",
      "Win/lose count 25.0/3.0. Average score (16.568181818181817)\n",
      "Win/lose count 13.0/0. Average score (16.488888888888887)\n",
      "Win/lose count 17.0/1.0. Average score (16.47826086956522)\n",
      "Win/lose count 11.5/0. Average score (16.372340425531913)\n",
      "Win/lose count 13.0/1.0. Average score (16.28125)\n",
      "Win/lose count 22.0/2.0. Average score (16.357142857142858)\n",
      "Win/lose count 23.0/1.0. Average score (16.47)\n",
      "Final score: 16.47\n"
     ]
    },
    {
     "data": {
      "text/html": [
       "<video alt=\"test\" controls>\n",
       "                <source src=\"data:video/mp4;base64,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\" type=\"video/mp4\" />\n",
       "             </video>"
      ],
      "text/plain": [
       "<IPython.core.display.HTML object>"
      ]
     },
     "execution_count": 46,
     "metadata": {},
     "output_type": "execute_result"
    }
   ],
   "source": [
    "# Evaluation\n",
    "test(agent,env,epochs_test,prefix='cnn_test_explore')\n",
    "HTML(display_videos('cnn_test_explore10.mp4'))"
   ]
  },
  {
   "cell_type": "markdown",
   "metadata": {},
   "source": [
    "We can see that, for a same temperature, this algorithm outperforms the previous version (by a factor close to 3)."
   ]
  },
  {
   "cell_type": "markdown",
   "metadata": {
    "colab_type": "text",
    "id": "g9kswPln-bbM"
   },
   "source": [
    "***\n",
    "***\n",
    "__BONUS question__ Use the expert DQN from the previous question to generate some winning games. Train a model that mimicks its behavior. Compare the performances."
   ]
  },
  {
   "cell_type": "markdown",
   "metadata": {
    "colab_type": "text",
    "id": "Ke3pTnhK-bbN"
   },
   "source": []
  },
  {
   "cell_type": "markdown",
   "metadata": {
    "colab_type": "text",
    "id": "K7P51P1K-bbQ"
   },
   "source": [
    "***"
   ]
  }
 ],
 "metadata": {
  "accelerator": "GPU",
  "colab": {
   "collapsed_sections": [],
   "name": "DQN_project_MVA.ipynb",
   "provenance": [],
   "toc_visible": true,
   "version": "0.3.2"
  },
  "kernelspec": {
   "display_name": "forkeras",
   "language": "python",
   "name": "forkeras"
  },
  "language_info": {
   "codemirror_mode": {
    "name": "ipython",
    "version": 3
   },
   "file_extension": ".py",
   "mimetype": "text/x-python",
   "name": "python",
   "nbconvert_exporter": "python",
   "pygments_lexer": "ipython3",
   "version": "3.6.7"
  }
 },
 "nbformat": 4,
 "nbformat_minor": 1
}
